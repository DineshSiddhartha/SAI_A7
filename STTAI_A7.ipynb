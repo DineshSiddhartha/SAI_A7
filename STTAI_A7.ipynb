{
  "nbformat": 4,
  "nbformat_minor": 0,
  "metadata": {
    "colab": {
      "provenance": [],
      "gpuType": "T4",
      "include_colab_link": true
    },
    "kernelspec": {
      "name": "python3",
      "display_name": "Python 3"
    },
    "language_info": {
      "name": "python"
    },
    "accelerator": "GPU",
    "widgets": {
      "application/vnd.jupyter.widget-state+json": {
        "34198b24654d4c82b4ac5106834633ab": {
          "model_module": "@jupyter-widgets/controls",
          "model_name": "HBoxModel",
          "model_module_version": "1.5.0",
          "state": {
            "_dom_classes": [],
            "_model_module": "@jupyter-widgets/controls",
            "_model_module_version": "1.5.0",
            "_model_name": "HBoxModel",
            "_view_count": null,
            "_view_module": "@jupyter-widgets/controls",
            "_view_module_version": "1.5.0",
            "_view_name": "HBoxView",
            "box_style": "",
            "children": [
              "IPY_MODEL_33704803a8ea4297b4f8d153bece2401",
              "IPY_MODEL_0f37bd646f444eeb970d95111d3d32ed",
              "IPY_MODEL_59fee7a9ba68489da97f865bfd020661"
            ],
            "layout": "IPY_MODEL_7196dec312e644ee988ab0888010eb03"
          }
        },
        "33704803a8ea4297b4f8d153bece2401": {
          "model_module": "@jupyter-widgets/controls",
          "model_name": "HTMLModel",
          "model_module_version": "1.5.0",
          "state": {
            "_dom_classes": [],
            "_model_module": "@jupyter-widgets/controls",
            "_model_module_version": "1.5.0",
            "_model_name": "HTMLModel",
            "_view_count": null,
            "_view_module": "@jupyter-widgets/controls",
            "_view_module_version": "1.5.0",
            "_view_name": "HTMLView",
            "description": "",
            "description_tooltip": null,
            "layout": "IPY_MODEL_23e5c328aaf041149f996da5d9b75c09",
            "placeholder": "​",
            "style": "IPY_MODEL_2afd7824d33b4f86a4d94f90470877b1",
            "value": "tokenizer_config.json: 100%"
          }
        },
        "0f37bd646f444eeb970d95111d3d32ed": {
          "model_module": "@jupyter-widgets/controls",
          "model_name": "FloatProgressModel",
          "model_module_version": "1.5.0",
          "state": {
            "_dom_classes": [],
            "_model_module": "@jupyter-widgets/controls",
            "_model_module_version": "1.5.0",
            "_model_name": "FloatProgressModel",
            "_view_count": null,
            "_view_module": "@jupyter-widgets/controls",
            "_view_module_version": "1.5.0",
            "_view_name": "ProgressView",
            "bar_style": "success",
            "description": "",
            "description_tooltip": null,
            "layout": "IPY_MODEL_a427090cd4c44b13a3da176ae4a2db21",
            "max": 48,
            "min": 0,
            "orientation": "horizontal",
            "style": "IPY_MODEL_9cf8cffafd95438787b3f3898c23c236",
            "value": 48
          }
        },
        "59fee7a9ba68489da97f865bfd020661": {
          "model_module": "@jupyter-widgets/controls",
          "model_name": "HTMLModel",
          "model_module_version": "1.5.0",
          "state": {
            "_dom_classes": [],
            "_model_module": "@jupyter-widgets/controls",
            "_model_module_version": "1.5.0",
            "_model_name": "HTMLModel",
            "_view_count": null,
            "_view_module": "@jupyter-widgets/controls",
            "_view_module_version": "1.5.0",
            "_view_name": "HTMLView",
            "description": "",
            "description_tooltip": null,
            "layout": "IPY_MODEL_21d48d96e9bd45ba99e956a68127b794",
            "placeholder": "​",
            "style": "IPY_MODEL_0a3e9c268a904d9796af9f87d8c1fe94",
            "value": " 48.0/48.0 [00:00&lt;00:00, 2.44kB/s]"
          }
        },
        "7196dec312e644ee988ab0888010eb03": {
          "model_module": "@jupyter-widgets/base",
          "model_name": "LayoutModel",
          "model_module_version": "1.2.0",
          "state": {
            "_model_module": "@jupyter-widgets/base",
            "_model_module_version": "1.2.0",
            "_model_name": "LayoutModel",
            "_view_count": null,
            "_view_module": "@jupyter-widgets/base",
            "_view_module_version": "1.2.0",
            "_view_name": "LayoutView",
            "align_content": null,
            "align_items": null,
            "align_self": null,
            "border": null,
            "bottom": null,
            "display": null,
            "flex": null,
            "flex_flow": null,
            "grid_area": null,
            "grid_auto_columns": null,
            "grid_auto_flow": null,
            "grid_auto_rows": null,
            "grid_column": null,
            "grid_gap": null,
            "grid_row": null,
            "grid_template_areas": null,
            "grid_template_columns": null,
            "grid_template_rows": null,
            "height": null,
            "justify_content": null,
            "justify_items": null,
            "left": null,
            "margin": null,
            "max_height": null,
            "max_width": null,
            "min_height": null,
            "min_width": null,
            "object_fit": null,
            "object_position": null,
            "order": null,
            "overflow": null,
            "overflow_x": null,
            "overflow_y": null,
            "padding": null,
            "right": null,
            "top": null,
            "visibility": null,
            "width": null
          }
        },
        "23e5c328aaf041149f996da5d9b75c09": {
          "model_module": "@jupyter-widgets/base",
          "model_name": "LayoutModel",
          "model_module_version": "1.2.0",
          "state": {
            "_model_module": "@jupyter-widgets/base",
            "_model_module_version": "1.2.0",
            "_model_name": "LayoutModel",
            "_view_count": null,
            "_view_module": "@jupyter-widgets/base",
            "_view_module_version": "1.2.0",
            "_view_name": "LayoutView",
            "align_content": null,
            "align_items": null,
            "align_self": null,
            "border": null,
            "bottom": null,
            "display": null,
            "flex": null,
            "flex_flow": null,
            "grid_area": null,
            "grid_auto_columns": null,
            "grid_auto_flow": null,
            "grid_auto_rows": null,
            "grid_column": null,
            "grid_gap": null,
            "grid_row": null,
            "grid_template_areas": null,
            "grid_template_columns": null,
            "grid_template_rows": null,
            "height": null,
            "justify_content": null,
            "justify_items": null,
            "left": null,
            "margin": null,
            "max_height": null,
            "max_width": null,
            "min_height": null,
            "min_width": null,
            "object_fit": null,
            "object_position": null,
            "order": null,
            "overflow": null,
            "overflow_x": null,
            "overflow_y": null,
            "padding": null,
            "right": null,
            "top": null,
            "visibility": null,
            "width": null
          }
        },
        "2afd7824d33b4f86a4d94f90470877b1": {
          "model_module": "@jupyter-widgets/controls",
          "model_name": "DescriptionStyleModel",
          "model_module_version": "1.5.0",
          "state": {
            "_model_module": "@jupyter-widgets/controls",
            "_model_module_version": "1.5.0",
            "_model_name": "DescriptionStyleModel",
            "_view_count": null,
            "_view_module": "@jupyter-widgets/base",
            "_view_module_version": "1.2.0",
            "_view_name": "StyleView",
            "description_width": ""
          }
        },
        "a427090cd4c44b13a3da176ae4a2db21": {
          "model_module": "@jupyter-widgets/base",
          "model_name": "LayoutModel",
          "model_module_version": "1.2.0",
          "state": {
            "_model_module": "@jupyter-widgets/base",
            "_model_module_version": "1.2.0",
            "_model_name": "LayoutModel",
            "_view_count": null,
            "_view_module": "@jupyter-widgets/base",
            "_view_module_version": "1.2.0",
            "_view_name": "LayoutView",
            "align_content": null,
            "align_items": null,
            "align_self": null,
            "border": null,
            "bottom": null,
            "display": null,
            "flex": null,
            "flex_flow": null,
            "grid_area": null,
            "grid_auto_columns": null,
            "grid_auto_flow": null,
            "grid_auto_rows": null,
            "grid_column": null,
            "grid_gap": null,
            "grid_row": null,
            "grid_template_areas": null,
            "grid_template_columns": null,
            "grid_template_rows": null,
            "height": null,
            "justify_content": null,
            "justify_items": null,
            "left": null,
            "margin": null,
            "max_height": null,
            "max_width": null,
            "min_height": null,
            "min_width": null,
            "object_fit": null,
            "object_position": null,
            "order": null,
            "overflow": null,
            "overflow_x": null,
            "overflow_y": null,
            "padding": null,
            "right": null,
            "top": null,
            "visibility": null,
            "width": null
          }
        },
        "9cf8cffafd95438787b3f3898c23c236": {
          "model_module": "@jupyter-widgets/controls",
          "model_name": "ProgressStyleModel",
          "model_module_version": "1.5.0",
          "state": {
            "_model_module": "@jupyter-widgets/controls",
            "_model_module_version": "1.5.0",
            "_model_name": "ProgressStyleModel",
            "_view_count": null,
            "_view_module": "@jupyter-widgets/base",
            "_view_module_version": "1.2.0",
            "_view_name": "StyleView",
            "bar_color": null,
            "description_width": ""
          }
        },
        "21d48d96e9bd45ba99e956a68127b794": {
          "model_module": "@jupyter-widgets/base",
          "model_name": "LayoutModel",
          "model_module_version": "1.2.0",
          "state": {
            "_model_module": "@jupyter-widgets/base",
            "_model_module_version": "1.2.0",
            "_model_name": "LayoutModel",
            "_view_count": null,
            "_view_module": "@jupyter-widgets/base",
            "_view_module_version": "1.2.0",
            "_view_name": "LayoutView",
            "align_content": null,
            "align_items": null,
            "align_self": null,
            "border": null,
            "bottom": null,
            "display": null,
            "flex": null,
            "flex_flow": null,
            "grid_area": null,
            "grid_auto_columns": null,
            "grid_auto_flow": null,
            "grid_auto_rows": null,
            "grid_column": null,
            "grid_gap": null,
            "grid_row": null,
            "grid_template_areas": null,
            "grid_template_columns": null,
            "grid_template_rows": null,
            "height": null,
            "justify_content": null,
            "justify_items": null,
            "left": null,
            "margin": null,
            "max_height": null,
            "max_width": null,
            "min_height": null,
            "min_width": null,
            "object_fit": null,
            "object_position": null,
            "order": null,
            "overflow": null,
            "overflow_x": null,
            "overflow_y": null,
            "padding": null,
            "right": null,
            "top": null,
            "visibility": null,
            "width": null
          }
        },
        "0a3e9c268a904d9796af9f87d8c1fe94": {
          "model_module": "@jupyter-widgets/controls",
          "model_name": "DescriptionStyleModel",
          "model_module_version": "1.5.0",
          "state": {
            "_model_module": "@jupyter-widgets/controls",
            "_model_module_version": "1.5.0",
            "_model_name": "DescriptionStyleModel",
            "_view_count": null,
            "_view_module": "@jupyter-widgets/base",
            "_view_module_version": "1.2.0",
            "_view_name": "StyleView",
            "description_width": ""
          }
        },
        "3aae3b9d138a40bb94ef4860707efdd7": {
          "model_module": "@jupyter-widgets/controls",
          "model_name": "HBoxModel",
          "model_module_version": "1.5.0",
          "state": {
            "_dom_classes": [],
            "_model_module": "@jupyter-widgets/controls",
            "_model_module_version": "1.5.0",
            "_model_name": "HBoxModel",
            "_view_count": null,
            "_view_module": "@jupyter-widgets/controls",
            "_view_module_version": "1.5.0",
            "_view_name": "HBoxView",
            "box_style": "",
            "children": [
              "IPY_MODEL_01d9dbba878c4c209bf532226d84fd2c",
              "IPY_MODEL_a0644a851801419fbf3859c422c437d5",
              "IPY_MODEL_58d21cbf06024a4da7d62a46be157ff4"
            ],
            "layout": "IPY_MODEL_fd2b149066cf409f9522169f9eb123b3"
          }
        },
        "01d9dbba878c4c209bf532226d84fd2c": {
          "model_module": "@jupyter-widgets/controls",
          "model_name": "HTMLModel",
          "model_module_version": "1.5.0",
          "state": {
            "_dom_classes": [],
            "_model_module": "@jupyter-widgets/controls",
            "_model_module_version": "1.5.0",
            "_model_name": "HTMLModel",
            "_view_count": null,
            "_view_module": "@jupyter-widgets/controls",
            "_view_module_version": "1.5.0",
            "_view_name": "HTMLView",
            "description": "",
            "description_tooltip": null,
            "layout": "IPY_MODEL_b915d9601dec4140805b01e1036dfdb5",
            "placeholder": "​",
            "style": "IPY_MODEL_dcf6488dd2a945f981a8db82c4e3c29e",
            "value": "config.json: 100%"
          }
        },
        "a0644a851801419fbf3859c422c437d5": {
          "model_module": "@jupyter-widgets/controls",
          "model_name": "FloatProgressModel",
          "model_module_version": "1.5.0",
          "state": {
            "_dom_classes": [],
            "_model_module": "@jupyter-widgets/controls",
            "_model_module_version": "1.5.0",
            "_model_name": "FloatProgressModel",
            "_view_count": null,
            "_view_module": "@jupyter-widgets/controls",
            "_view_module_version": "1.5.0",
            "_view_name": "ProgressView",
            "bar_style": "success",
            "description": "",
            "description_tooltip": null,
            "layout": "IPY_MODEL_fe2fd988b1e846ef8fa00e940b9bfcf8",
            "max": 570,
            "min": 0,
            "orientation": "horizontal",
            "style": "IPY_MODEL_b4b72c6131bc4500941c074d0a2757c5",
            "value": 570
          }
        },
        "58d21cbf06024a4da7d62a46be157ff4": {
          "model_module": "@jupyter-widgets/controls",
          "model_name": "HTMLModel",
          "model_module_version": "1.5.0",
          "state": {
            "_dom_classes": [],
            "_model_module": "@jupyter-widgets/controls",
            "_model_module_version": "1.5.0",
            "_model_name": "HTMLModel",
            "_view_count": null,
            "_view_module": "@jupyter-widgets/controls",
            "_view_module_version": "1.5.0",
            "_view_name": "HTMLView",
            "description": "",
            "description_tooltip": null,
            "layout": "IPY_MODEL_31f6f99bcbe848b4a3a277aa2ee2b025",
            "placeholder": "​",
            "style": "IPY_MODEL_15e7f534d02642a491ca0fafddadccf9",
            "value": " 570/570 [00:00&lt;00:00, 42.5kB/s]"
          }
        },
        "fd2b149066cf409f9522169f9eb123b3": {
          "model_module": "@jupyter-widgets/base",
          "model_name": "LayoutModel",
          "model_module_version": "1.2.0",
          "state": {
            "_model_module": "@jupyter-widgets/base",
            "_model_module_version": "1.2.0",
            "_model_name": "LayoutModel",
            "_view_count": null,
            "_view_module": "@jupyter-widgets/base",
            "_view_module_version": "1.2.0",
            "_view_name": "LayoutView",
            "align_content": null,
            "align_items": null,
            "align_self": null,
            "border": null,
            "bottom": null,
            "display": null,
            "flex": null,
            "flex_flow": null,
            "grid_area": null,
            "grid_auto_columns": null,
            "grid_auto_flow": null,
            "grid_auto_rows": null,
            "grid_column": null,
            "grid_gap": null,
            "grid_row": null,
            "grid_template_areas": null,
            "grid_template_columns": null,
            "grid_template_rows": null,
            "height": null,
            "justify_content": null,
            "justify_items": null,
            "left": null,
            "margin": null,
            "max_height": null,
            "max_width": null,
            "min_height": null,
            "min_width": null,
            "object_fit": null,
            "object_position": null,
            "order": null,
            "overflow": null,
            "overflow_x": null,
            "overflow_y": null,
            "padding": null,
            "right": null,
            "top": null,
            "visibility": null,
            "width": null
          }
        },
        "b915d9601dec4140805b01e1036dfdb5": {
          "model_module": "@jupyter-widgets/base",
          "model_name": "LayoutModel",
          "model_module_version": "1.2.0",
          "state": {
            "_model_module": "@jupyter-widgets/base",
            "_model_module_version": "1.2.0",
            "_model_name": "LayoutModel",
            "_view_count": null,
            "_view_module": "@jupyter-widgets/base",
            "_view_module_version": "1.2.0",
            "_view_name": "LayoutView",
            "align_content": null,
            "align_items": null,
            "align_self": null,
            "border": null,
            "bottom": null,
            "display": null,
            "flex": null,
            "flex_flow": null,
            "grid_area": null,
            "grid_auto_columns": null,
            "grid_auto_flow": null,
            "grid_auto_rows": null,
            "grid_column": null,
            "grid_gap": null,
            "grid_row": null,
            "grid_template_areas": null,
            "grid_template_columns": null,
            "grid_template_rows": null,
            "height": null,
            "justify_content": null,
            "justify_items": null,
            "left": null,
            "margin": null,
            "max_height": null,
            "max_width": null,
            "min_height": null,
            "min_width": null,
            "object_fit": null,
            "object_position": null,
            "order": null,
            "overflow": null,
            "overflow_x": null,
            "overflow_y": null,
            "padding": null,
            "right": null,
            "top": null,
            "visibility": null,
            "width": null
          }
        },
        "dcf6488dd2a945f981a8db82c4e3c29e": {
          "model_module": "@jupyter-widgets/controls",
          "model_name": "DescriptionStyleModel",
          "model_module_version": "1.5.0",
          "state": {
            "_model_module": "@jupyter-widgets/controls",
            "_model_module_version": "1.5.0",
            "_model_name": "DescriptionStyleModel",
            "_view_count": null,
            "_view_module": "@jupyter-widgets/base",
            "_view_module_version": "1.2.0",
            "_view_name": "StyleView",
            "description_width": ""
          }
        },
        "fe2fd988b1e846ef8fa00e940b9bfcf8": {
          "model_module": "@jupyter-widgets/base",
          "model_name": "LayoutModel",
          "model_module_version": "1.2.0",
          "state": {
            "_model_module": "@jupyter-widgets/base",
            "_model_module_version": "1.2.0",
            "_model_name": "LayoutModel",
            "_view_count": null,
            "_view_module": "@jupyter-widgets/base",
            "_view_module_version": "1.2.0",
            "_view_name": "LayoutView",
            "align_content": null,
            "align_items": null,
            "align_self": null,
            "border": null,
            "bottom": null,
            "display": null,
            "flex": null,
            "flex_flow": null,
            "grid_area": null,
            "grid_auto_columns": null,
            "grid_auto_flow": null,
            "grid_auto_rows": null,
            "grid_column": null,
            "grid_gap": null,
            "grid_row": null,
            "grid_template_areas": null,
            "grid_template_columns": null,
            "grid_template_rows": null,
            "height": null,
            "justify_content": null,
            "justify_items": null,
            "left": null,
            "margin": null,
            "max_height": null,
            "max_width": null,
            "min_height": null,
            "min_width": null,
            "object_fit": null,
            "object_position": null,
            "order": null,
            "overflow": null,
            "overflow_x": null,
            "overflow_y": null,
            "padding": null,
            "right": null,
            "top": null,
            "visibility": null,
            "width": null
          }
        },
        "b4b72c6131bc4500941c074d0a2757c5": {
          "model_module": "@jupyter-widgets/controls",
          "model_name": "ProgressStyleModel",
          "model_module_version": "1.5.0",
          "state": {
            "_model_module": "@jupyter-widgets/controls",
            "_model_module_version": "1.5.0",
            "_model_name": "ProgressStyleModel",
            "_view_count": null,
            "_view_module": "@jupyter-widgets/base",
            "_view_module_version": "1.2.0",
            "_view_name": "StyleView",
            "bar_color": null,
            "description_width": ""
          }
        },
        "31f6f99bcbe848b4a3a277aa2ee2b025": {
          "model_module": "@jupyter-widgets/base",
          "model_name": "LayoutModel",
          "model_module_version": "1.2.0",
          "state": {
            "_model_module": "@jupyter-widgets/base",
            "_model_module_version": "1.2.0",
            "_model_name": "LayoutModel",
            "_view_count": null,
            "_view_module": "@jupyter-widgets/base",
            "_view_module_version": "1.2.0",
            "_view_name": "LayoutView",
            "align_content": null,
            "align_items": null,
            "align_self": null,
            "border": null,
            "bottom": null,
            "display": null,
            "flex": null,
            "flex_flow": null,
            "grid_area": null,
            "grid_auto_columns": null,
            "grid_auto_flow": null,
            "grid_auto_rows": null,
            "grid_column": null,
            "grid_gap": null,
            "grid_row": null,
            "grid_template_areas": null,
            "grid_template_columns": null,
            "grid_template_rows": null,
            "height": null,
            "justify_content": null,
            "justify_items": null,
            "left": null,
            "margin": null,
            "max_height": null,
            "max_width": null,
            "min_height": null,
            "min_width": null,
            "object_fit": null,
            "object_position": null,
            "order": null,
            "overflow": null,
            "overflow_x": null,
            "overflow_y": null,
            "padding": null,
            "right": null,
            "top": null,
            "visibility": null,
            "width": null
          }
        },
        "15e7f534d02642a491ca0fafddadccf9": {
          "model_module": "@jupyter-widgets/controls",
          "model_name": "DescriptionStyleModel",
          "model_module_version": "1.5.0",
          "state": {
            "_model_module": "@jupyter-widgets/controls",
            "_model_module_version": "1.5.0",
            "_model_name": "DescriptionStyleModel",
            "_view_count": null,
            "_view_module": "@jupyter-widgets/base",
            "_view_module_version": "1.2.0",
            "_view_name": "StyleView",
            "description_width": ""
          }
        },
        "2131f526909c44cebc8efcd211f4640e": {
          "model_module": "@jupyter-widgets/controls",
          "model_name": "HBoxModel",
          "model_module_version": "1.5.0",
          "state": {
            "_dom_classes": [],
            "_model_module": "@jupyter-widgets/controls",
            "_model_module_version": "1.5.0",
            "_model_name": "HBoxModel",
            "_view_count": null,
            "_view_module": "@jupyter-widgets/controls",
            "_view_module_version": "1.5.0",
            "_view_name": "HBoxView",
            "box_style": "",
            "children": [
              "IPY_MODEL_9f5eef634e854b1fb300ac98cbfc5902",
              "IPY_MODEL_6b08b0fbc9f9482093c2a8e7e4109d37",
              "IPY_MODEL_71e282facc8e4a448f7217fb00117644"
            ],
            "layout": "IPY_MODEL_2fe7a16a04cb4f1ba23c647337595d2a"
          }
        },
        "9f5eef634e854b1fb300ac98cbfc5902": {
          "model_module": "@jupyter-widgets/controls",
          "model_name": "HTMLModel",
          "model_module_version": "1.5.0",
          "state": {
            "_dom_classes": [],
            "_model_module": "@jupyter-widgets/controls",
            "_model_module_version": "1.5.0",
            "_model_name": "HTMLModel",
            "_view_count": null,
            "_view_module": "@jupyter-widgets/controls",
            "_view_module_version": "1.5.0",
            "_view_name": "HTMLView",
            "description": "",
            "description_tooltip": null,
            "layout": "IPY_MODEL_cc34aad24a354946b9c4f1443ee45472",
            "placeholder": "​",
            "style": "IPY_MODEL_5023cd71f1ba4b97bd4d73551239d632",
            "value": "vocab.txt: 100%"
          }
        },
        "6b08b0fbc9f9482093c2a8e7e4109d37": {
          "model_module": "@jupyter-widgets/controls",
          "model_name": "FloatProgressModel",
          "model_module_version": "1.5.0",
          "state": {
            "_dom_classes": [],
            "_model_module": "@jupyter-widgets/controls",
            "_model_module_version": "1.5.0",
            "_model_name": "FloatProgressModel",
            "_view_count": null,
            "_view_module": "@jupyter-widgets/controls",
            "_view_module_version": "1.5.0",
            "_view_name": "ProgressView",
            "bar_style": "success",
            "description": "",
            "description_tooltip": null,
            "layout": "IPY_MODEL_8e25db39570743ffb6189e8cae3dd434",
            "max": 231508,
            "min": 0,
            "orientation": "horizontal",
            "style": "IPY_MODEL_86a1e7334d6e427fb8061971c92e9764",
            "value": 231508
          }
        },
        "71e282facc8e4a448f7217fb00117644": {
          "model_module": "@jupyter-widgets/controls",
          "model_name": "HTMLModel",
          "model_module_version": "1.5.0",
          "state": {
            "_dom_classes": [],
            "_model_module": "@jupyter-widgets/controls",
            "_model_module_version": "1.5.0",
            "_model_name": "HTMLModel",
            "_view_count": null,
            "_view_module": "@jupyter-widgets/controls",
            "_view_module_version": "1.5.0",
            "_view_name": "HTMLView",
            "description": "",
            "description_tooltip": null,
            "layout": "IPY_MODEL_88b1ea0738a34890ab840dfb2090a9e3",
            "placeholder": "​",
            "style": "IPY_MODEL_d37a643d63e74bfda46a537c4fbb6eac",
            "value": " 232k/232k [00:00&lt;00:00, 15.6MB/s]"
          }
        },
        "2fe7a16a04cb4f1ba23c647337595d2a": {
          "model_module": "@jupyter-widgets/base",
          "model_name": "LayoutModel",
          "model_module_version": "1.2.0",
          "state": {
            "_model_module": "@jupyter-widgets/base",
            "_model_module_version": "1.2.0",
            "_model_name": "LayoutModel",
            "_view_count": null,
            "_view_module": "@jupyter-widgets/base",
            "_view_module_version": "1.2.0",
            "_view_name": "LayoutView",
            "align_content": null,
            "align_items": null,
            "align_self": null,
            "border": null,
            "bottom": null,
            "display": null,
            "flex": null,
            "flex_flow": null,
            "grid_area": null,
            "grid_auto_columns": null,
            "grid_auto_flow": null,
            "grid_auto_rows": null,
            "grid_column": null,
            "grid_gap": null,
            "grid_row": null,
            "grid_template_areas": null,
            "grid_template_columns": null,
            "grid_template_rows": null,
            "height": null,
            "justify_content": null,
            "justify_items": null,
            "left": null,
            "margin": null,
            "max_height": null,
            "max_width": null,
            "min_height": null,
            "min_width": null,
            "object_fit": null,
            "object_position": null,
            "order": null,
            "overflow": null,
            "overflow_x": null,
            "overflow_y": null,
            "padding": null,
            "right": null,
            "top": null,
            "visibility": null,
            "width": null
          }
        },
        "cc34aad24a354946b9c4f1443ee45472": {
          "model_module": "@jupyter-widgets/base",
          "model_name": "LayoutModel",
          "model_module_version": "1.2.0",
          "state": {
            "_model_module": "@jupyter-widgets/base",
            "_model_module_version": "1.2.0",
            "_model_name": "LayoutModel",
            "_view_count": null,
            "_view_module": "@jupyter-widgets/base",
            "_view_module_version": "1.2.0",
            "_view_name": "LayoutView",
            "align_content": null,
            "align_items": null,
            "align_self": null,
            "border": null,
            "bottom": null,
            "display": null,
            "flex": null,
            "flex_flow": null,
            "grid_area": null,
            "grid_auto_columns": null,
            "grid_auto_flow": null,
            "grid_auto_rows": null,
            "grid_column": null,
            "grid_gap": null,
            "grid_row": null,
            "grid_template_areas": null,
            "grid_template_columns": null,
            "grid_template_rows": null,
            "height": null,
            "justify_content": null,
            "justify_items": null,
            "left": null,
            "margin": null,
            "max_height": null,
            "max_width": null,
            "min_height": null,
            "min_width": null,
            "object_fit": null,
            "object_position": null,
            "order": null,
            "overflow": null,
            "overflow_x": null,
            "overflow_y": null,
            "padding": null,
            "right": null,
            "top": null,
            "visibility": null,
            "width": null
          }
        },
        "5023cd71f1ba4b97bd4d73551239d632": {
          "model_module": "@jupyter-widgets/controls",
          "model_name": "DescriptionStyleModel",
          "model_module_version": "1.5.0",
          "state": {
            "_model_module": "@jupyter-widgets/controls",
            "_model_module_version": "1.5.0",
            "_model_name": "DescriptionStyleModel",
            "_view_count": null,
            "_view_module": "@jupyter-widgets/base",
            "_view_module_version": "1.2.0",
            "_view_name": "StyleView",
            "description_width": ""
          }
        },
        "8e25db39570743ffb6189e8cae3dd434": {
          "model_module": "@jupyter-widgets/base",
          "model_name": "LayoutModel",
          "model_module_version": "1.2.0",
          "state": {
            "_model_module": "@jupyter-widgets/base",
            "_model_module_version": "1.2.0",
            "_model_name": "LayoutModel",
            "_view_count": null,
            "_view_module": "@jupyter-widgets/base",
            "_view_module_version": "1.2.0",
            "_view_name": "LayoutView",
            "align_content": null,
            "align_items": null,
            "align_self": null,
            "border": null,
            "bottom": null,
            "display": null,
            "flex": null,
            "flex_flow": null,
            "grid_area": null,
            "grid_auto_columns": null,
            "grid_auto_flow": null,
            "grid_auto_rows": null,
            "grid_column": null,
            "grid_gap": null,
            "grid_row": null,
            "grid_template_areas": null,
            "grid_template_columns": null,
            "grid_template_rows": null,
            "height": null,
            "justify_content": null,
            "justify_items": null,
            "left": null,
            "margin": null,
            "max_height": null,
            "max_width": null,
            "min_height": null,
            "min_width": null,
            "object_fit": null,
            "object_position": null,
            "order": null,
            "overflow": null,
            "overflow_x": null,
            "overflow_y": null,
            "padding": null,
            "right": null,
            "top": null,
            "visibility": null,
            "width": null
          }
        },
        "86a1e7334d6e427fb8061971c92e9764": {
          "model_module": "@jupyter-widgets/controls",
          "model_name": "ProgressStyleModel",
          "model_module_version": "1.5.0",
          "state": {
            "_model_module": "@jupyter-widgets/controls",
            "_model_module_version": "1.5.0",
            "_model_name": "ProgressStyleModel",
            "_view_count": null,
            "_view_module": "@jupyter-widgets/base",
            "_view_module_version": "1.2.0",
            "_view_name": "StyleView",
            "bar_color": null,
            "description_width": ""
          }
        },
        "88b1ea0738a34890ab840dfb2090a9e3": {
          "model_module": "@jupyter-widgets/base",
          "model_name": "LayoutModel",
          "model_module_version": "1.2.0",
          "state": {
            "_model_module": "@jupyter-widgets/base",
            "_model_module_version": "1.2.0",
            "_model_name": "LayoutModel",
            "_view_count": null,
            "_view_module": "@jupyter-widgets/base",
            "_view_module_version": "1.2.0",
            "_view_name": "LayoutView",
            "align_content": null,
            "align_items": null,
            "align_self": null,
            "border": null,
            "bottom": null,
            "display": null,
            "flex": null,
            "flex_flow": null,
            "grid_area": null,
            "grid_auto_columns": null,
            "grid_auto_flow": null,
            "grid_auto_rows": null,
            "grid_column": null,
            "grid_gap": null,
            "grid_row": null,
            "grid_template_areas": null,
            "grid_template_columns": null,
            "grid_template_rows": null,
            "height": null,
            "justify_content": null,
            "justify_items": null,
            "left": null,
            "margin": null,
            "max_height": null,
            "max_width": null,
            "min_height": null,
            "min_width": null,
            "object_fit": null,
            "object_position": null,
            "order": null,
            "overflow": null,
            "overflow_x": null,
            "overflow_y": null,
            "padding": null,
            "right": null,
            "top": null,
            "visibility": null,
            "width": null
          }
        },
        "d37a643d63e74bfda46a537c4fbb6eac": {
          "model_module": "@jupyter-widgets/controls",
          "model_name": "DescriptionStyleModel",
          "model_module_version": "1.5.0",
          "state": {
            "_model_module": "@jupyter-widgets/controls",
            "_model_module_version": "1.5.0",
            "_model_name": "DescriptionStyleModel",
            "_view_count": null,
            "_view_module": "@jupyter-widgets/base",
            "_view_module_version": "1.2.0",
            "_view_name": "StyleView",
            "description_width": ""
          }
        },
        "85b7a78a429443ff80b476d85e2568cb": {
          "model_module": "@jupyter-widgets/controls",
          "model_name": "HBoxModel",
          "model_module_version": "1.5.0",
          "state": {
            "_dom_classes": [],
            "_model_module": "@jupyter-widgets/controls",
            "_model_module_version": "1.5.0",
            "_model_name": "HBoxModel",
            "_view_count": null,
            "_view_module": "@jupyter-widgets/controls",
            "_view_module_version": "1.5.0",
            "_view_name": "HBoxView",
            "box_style": "",
            "children": [
              "IPY_MODEL_6cc9519bbc484d4589cfcff1c552a272",
              "IPY_MODEL_f828a407573a4e94be8e76699fbee27e",
              "IPY_MODEL_c551da843fbf4786a6c0b348343f2849"
            ],
            "layout": "IPY_MODEL_78fc9279244244e494871ddf1c5643af"
          }
        },
        "6cc9519bbc484d4589cfcff1c552a272": {
          "model_module": "@jupyter-widgets/controls",
          "model_name": "HTMLModel",
          "model_module_version": "1.5.0",
          "state": {
            "_dom_classes": [],
            "_model_module": "@jupyter-widgets/controls",
            "_model_module_version": "1.5.0",
            "_model_name": "HTMLModel",
            "_view_count": null,
            "_view_module": "@jupyter-widgets/controls",
            "_view_module_version": "1.5.0",
            "_view_name": "HTMLView",
            "description": "",
            "description_tooltip": null,
            "layout": "IPY_MODEL_a2f7fb7608bb4cc6937422c6b1ffe2f7",
            "placeholder": "​",
            "style": "IPY_MODEL_746a4be174014da680f28ed112974b9a",
            "value": "tokenizer.json: 100%"
          }
        },
        "f828a407573a4e94be8e76699fbee27e": {
          "model_module": "@jupyter-widgets/controls",
          "model_name": "FloatProgressModel",
          "model_module_version": "1.5.0",
          "state": {
            "_dom_classes": [],
            "_model_module": "@jupyter-widgets/controls",
            "_model_module_version": "1.5.0",
            "_model_name": "FloatProgressModel",
            "_view_count": null,
            "_view_module": "@jupyter-widgets/controls",
            "_view_module_version": "1.5.0",
            "_view_name": "ProgressView",
            "bar_style": "success",
            "description": "",
            "description_tooltip": null,
            "layout": "IPY_MODEL_2e157b5b0d3b4ad58471dd28a3b5d186",
            "max": 466062,
            "min": 0,
            "orientation": "horizontal",
            "style": "IPY_MODEL_5e82c873b86e47c59261e82b4e404208",
            "value": 466062
          }
        },
        "c551da843fbf4786a6c0b348343f2849": {
          "model_module": "@jupyter-widgets/controls",
          "model_name": "HTMLModel",
          "model_module_version": "1.5.0",
          "state": {
            "_dom_classes": [],
            "_model_module": "@jupyter-widgets/controls",
            "_model_module_version": "1.5.0",
            "_model_name": "HTMLModel",
            "_view_count": null,
            "_view_module": "@jupyter-widgets/controls",
            "_view_module_version": "1.5.0",
            "_view_name": "HTMLView",
            "description": "",
            "description_tooltip": null,
            "layout": "IPY_MODEL_600294bdc0cd44649dee8d93771b0856",
            "placeholder": "​",
            "style": "IPY_MODEL_9703e5e38a574bd4a3707e5993f31a86",
            "value": " 466k/466k [00:00&lt;00:00, 2.12MB/s]"
          }
        },
        "78fc9279244244e494871ddf1c5643af": {
          "model_module": "@jupyter-widgets/base",
          "model_name": "LayoutModel",
          "model_module_version": "1.2.0",
          "state": {
            "_model_module": "@jupyter-widgets/base",
            "_model_module_version": "1.2.0",
            "_model_name": "LayoutModel",
            "_view_count": null,
            "_view_module": "@jupyter-widgets/base",
            "_view_module_version": "1.2.0",
            "_view_name": "LayoutView",
            "align_content": null,
            "align_items": null,
            "align_self": null,
            "border": null,
            "bottom": null,
            "display": null,
            "flex": null,
            "flex_flow": null,
            "grid_area": null,
            "grid_auto_columns": null,
            "grid_auto_flow": null,
            "grid_auto_rows": null,
            "grid_column": null,
            "grid_gap": null,
            "grid_row": null,
            "grid_template_areas": null,
            "grid_template_columns": null,
            "grid_template_rows": null,
            "height": null,
            "justify_content": null,
            "justify_items": null,
            "left": null,
            "margin": null,
            "max_height": null,
            "max_width": null,
            "min_height": null,
            "min_width": null,
            "object_fit": null,
            "object_position": null,
            "order": null,
            "overflow": null,
            "overflow_x": null,
            "overflow_y": null,
            "padding": null,
            "right": null,
            "top": null,
            "visibility": null,
            "width": null
          }
        },
        "a2f7fb7608bb4cc6937422c6b1ffe2f7": {
          "model_module": "@jupyter-widgets/base",
          "model_name": "LayoutModel",
          "model_module_version": "1.2.0",
          "state": {
            "_model_module": "@jupyter-widgets/base",
            "_model_module_version": "1.2.0",
            "_model_name": "LayoutModel",
            "_view_count": null,
            "_view_module": "@jupyter-widgets/base",
            "_view_module_version": "1.2.0",
            "_view_name": "LayoutView",
            "align_content": null,
            "align_items": null,
            "align_self": null,
            "border": null,
            "bottom": null,
            "display": null,
            "flex": null,
            "flex_flow": null,
            "grid_area": null,
            "grid_auto_columns": null,
            "grid_auto_flow": null,
            "grid_auto_rows": null,
            "grid_column": null,
            "grid_gap": null,
            "grid_row": null,
            "grid_template_areas": null,
            "grid_template_columns": null,
            "grid_template_rows": null,
            "height": null,
            "justify_content": null,
            "justify_items": null,
            "left": null,
            "margin": null,
            "max_height": null,
            "max_width": null,
            "min_height": null,
            "min_width": null,
            "object_fit": null,
            "object_position": null,
            "order": null,
            "overflow": null,
            "overflow_x": null,
            "overflow_y": null,
            "padding": null,
            "right": null,
            "top": null,
            "visibility": null,
            "width": null
          }
        },
        "746a4be174014da680f28ed112974b9a": {
          "model_module": "@jupyter-widgets/controls",
          "model_name": "DescriptionStyleModel",
          "model_module_version": "1.5.0",
          "state": {
            "_model_module": "@jupyter-widgets/controls",
            "_model_module_version": "1.5.0",
            "_model_name": "DescriptionStyleModel",
            "_view_count": null,
            "_view_module": "@jupyter-widgets/base",
            "_view_module_version": "1.2.0",
            "_view_name": "StyleView",
            "description_width": ""
          }
        },
        "2e157b5b0d3b4ad58471dd28a3b5d186": {
          "model_module": "@jupyter-widgets/base",
          "model_name": "LayoutModel",
          "model_module_version": "1.2.0",
          "state": {
            "_model_module": "@jupyter-widgets/base",
            "_model_module_version": "1.2.0",
            "_model_name": "LayoutModel",
            "_view_count": null,
            "_view_module": "@jupyter-widgets/base",
            "_view_module_version": "1.2.0",
            "_view_name": "LayoutView",
            "align_content": null,
            "align_items": null,
            "align_self": null,
            "border": null,
            "bottom": null,
            "display": null,
            "flex": null,
            "flex_flow": null,
            "grid_area": null,
            "grid_auto_columns": null,
            "grid_auto_flow": null,
            "grid_auto_rows": null,
            "grid_column": null,
            "grid_gap": null,
            "grid_row": null,
            "grid_template_areas": null,
            "grid_template_columns": null,
            "grid_template_rows": null,
            "height": null,
            "justify_content": null,
            "justify_items": null,
            "left": null,
            "margin": null,
            "max_height": null,
            "max_width": null,
            "min_height": null,
            "min_width": null,
            "object_fit": null,
            "object_position": null,
            "order": null,
            "overflow": null,
            "overflow_x": null,
            "overflow_y": null,
            "padding": null,
            "right": null,
            "top": null,
            "visibility": null,
            "width": null
          }
        },
        "5e82c873b86e47c59261e82b4e404208": {
          "model_module": "@jupyter-widgets/controls",
          "model_name": "ProgressStyleModel",
          "model_module_version": "1.5.0",
          "state": {
            "_model_module": "@jupyter-widgets/controls",
            "_model_module_version": "1.5.0",
            "_model_name": "ProgressStyleModel",
            "_view_count": null,
            "_view_module": "@jupyter-widgets/base",
            "_view_module_version": "1.2.0",
            "_view_name": "StyleView",
            "bar_color": null,
            "description_width": ""
          }
        },
        "600294bdc0cd44649dee8d93771b0856": {
          "model_module": "@jupyter-widgets/base",
          "model_name": "LayoutModel",
          "model_module_version": "1.2.0",
          "state": {
            "_model_module": "@jupyter-widgets/base",
            "_model_module_version": "1.2.0",
            "_model_name": "LayoutModel",
            "_view_count": null,
            "_view_module": "@jupyter-widgets/base",
            "_view_module_version": "1.2.0",
            "_view_name": "LayoutView",
            "align_content": null,
            "align_items": null,
            "align_self": null,
            "border": null,
            "bottom": null,
            "display": null,
            "flex": null,
            "flex_flow": null,
            "grid_area": null,
            "grid_auto_columns": null,
            "grid_auto_flow": null,
            "grid_auto_rows": null,
            "grid_column": null,
            "grid_gap": null,
            "grid_row": null,
            "grid_template_areas": null,
            "grid_template_columns": null,
            "grid_template_rows": null,
            "height": null,
            "justify_content": null,
            "justify_items": null,
            "left": null,
            "margin": null,
            "max_height": null,
            "max_width": null,
            "min_height": null,
            "min_width": null,
            "object_fit": null,
            "object_position": null,
            "order": null,
            "overflow": null,
            "overflow_x": null,
            "overflow_y": null,
            "padding": null,
            "right": null,
            "top": null,
            "visibility": null,
            "width": null
          }
        },
        "9703e5e38a574bd4a3707e5993f31a86": {
          "model_module": "@jupyter-widgets/controls",
          "model_name": "DescriptionStyleModel",
          "model_module_version": "1.5.0",
          "state": {
            "_model_module": "@jupyter-widgets/controls",
            "_model_module_version": "1.5.0",
            "_model_name": "DescriptionStyleModel",
            "_view_count": null,
            "_view_module": "@jupyter-widgets/base",
            "_view_module_version": "1.2.0",
            "_view_name": "StyleView",
            "description_width": ""
          }
        },
        "e6a78a5c1ccc4fd3bbd9f8315070e6b7": {
          "model_module": "@jupyter-widgets/controls",
          "model_name": "HBoxModel",
          "model_module_version": "1.5.0",
          "state": {
            "_dom_classes": [],
            "_model_module": "@jupyter-widgets/controls",
            "_model_module_version": "1.5.0",
            "_model_name": "HBoxModel",
            "_view_count": null,
            "_view_module": "@jupyter-widgets/controls",
            "_view_module_version": "1.5.0",
            "_view_name": "HBoxView",
            "box_style": "",
            "children": [
              "IPY_MODEL_9796d707268543ea8588308f010bb6f5",
              "IPY_MODEL_dabcb60af249422693853bfe8e581f44",
              "IPY_MODEL_74bda8f332474e32b96edde6b953d958"
            ],
            "layout": "IPY_MODEL_45343b74f6c146d192295255f708d36d"
          }
        },
        "9796d707268543ea8588308f010bb6f5": {
          "model_module": "@jupyter-widgets/controls",
          "model_name": "HTMLModel",
          "model_module_version": "1.5.0",
          "state": {
            "_dom_classes": [],
            "_model_module": "@jupyter-widgets/controls",
            "_model_module_version": "1.5.0",
            "_model_name": "HTMLModel",
            "_view_count": null,
            "_view_module": "@jupyter-widgets/controls",
            "_view_module_version": "1.5.0",
            "_view_name": "HTMLView",
            "description": "",
            "description_tooltip": null,
            "layout": "IPY_MODEL_466f00cf3d5341e896c84a534d8d455e",
            "placeholder": "​",
            "style": "IPY_MODEL_97f32f6cfc084c98b3af5233764973cc",
            "value": "model.safetensors: 100%"
          }
        },
        "dabcb60af249422693853bfe8e581f44": {
          "model_module": "@jupyter-widgets/controls",
          "model_name": "FloatProgressModel",
          "model_module_version": "1.5.0",
          "state": {
            "_dom_classes": [],
            "_model_module": "@jupyter-widgets/controls",
            "_model_module_version": "1.5.0",
            "_model_name": "FloatProgressModel",
            "_view_count": null,
            "_view_module": "@jupyter-widgets/controls",
            "_view_module_version": "1.5.0",
            "_view_name": "ProgressView",
            "bar_style": "success",
            "description": "",
            "description_tooltip": null,
            "layout": "IPY_MODEL_1c204c859f2240aea0cae7f52fe1174d",
            "max": 440449768,
            "min": 0,
            "orientation": "horizontal",
            "style": "IPY_MODEL_471f2e9750d54c7aaf49e83394bdc95d",
            "value": 440449768
          }
        },
        "74bda8f332474e32b96edde6b953d958": {
          "model_module": "@jupyter-widgets/controls",
          "model_name": "HTMLModel",
          "model_module_version": "1.5.0",
          "state": {
            "_dom_classes": [],
            "_model_module": "@jupyter-widgets/controls",
            "_model_module_version": "1.5.0",
            "_model_name": "HTMLModel",
            "_view_count": null,
            "_view_module": "@jupyter-widgets/controls",
            "_view_module_version": "1.5.0",
            "_view_name": "HTMLView",
            "description": "",
            "description_tooltip": null,
            "layout": "IPY_MODEL_650938d210ab4b2184b6f289c4cfe970",
            "placeholder": "​",
            "style": "IPY_MODEL_ba70b105269b4ac3bcc58a813cd35a15",
            "value": " 440M/440M [00:07&lt;00:00, 27.8MB/s]"
          }
        },
        "45343b74f6c146d192295255f708d36d": {
          "model_module": "@jupyter-widgets/base",
          "model_name": "LayoutModel",
          "model_module_version": "1.2.0",
          "state": {
            "_model_module": "@jupyter-widgets/base",
            "_model_module_version": "1.2.0",
            "_model_name": "LayoutModel",
            "_view_count": null,
            "_view_module": "@jupyter-widgets/base",
            "_view_module_version": "1.2.0",
            "_view_name": "LayoutView",
            "align_content": null,
            "align_items": null,
            "align_self": null,
            "border": null,
            "bottom": null,
            "display": null,
            "flex": null,
            "flex_flow": null,
            "grid_area": null,
            "grid_auto_columns": null,
            "grid_auto_flow": null,
            "grid_auto_rows": null,
            "grid_column": null,
            "grid_gap": null,
            "grid_row": null,
            "grid_template_areas": null,
            "grid_template_columns": null,
            "grid_template_rows": null,
            "height": null,
            "justify_content": null,
            "justify_items": null,
            "left": null,
            "margin": null,
            "max_height": null,
            "max_width": null,
            "min_height": null,
            "min_width": null,
            "object_fit": null,
            "object_position": null,
            "order": null,
            "overflow": null,
            "overflow_x": null,
            "overflow_y": null,
            "padding": null,
            "right": null,
            "top": null,
            "visibility": null,
            "width": null
          }
        },
        "466f00cf3d5341e896c84a534d8d455e": {
          "model_module": "@jupyter-widgets/base",
          "model_name": "LayoutModel",
          "model_module_version": "1.2.0",
          "state": {
            "_model_module": "@jupyter-widgets/base",
            "_model_module_version": "1.2.0",
            "_model_name": "LayoutModel",
            "_view_count": null,
            "_view_module": "@jupyter-widgets/base",
            "_view_module_version": "1.2.0",
            "_view_name": "LayoutView",
            "align_content": null,
            "align_items": null,
            "align_self": null,
            "border": null,
            "bottom": null,
            "display": null,
            "flex": null,
            "flex_flow": null,
            "grid_area": null,
            "grid_auto_columns": null,
            "grid_auto_flow": null,
            "grid_auto_rows": null,
            "grid_column": null,
            "grid_gap": null,
            "grid_row": null,
            "grid_template_areas": null,
            "grid_template_columns": null,
            "grid_template_rows": null,
            "height": null,
            "justify_content": null,
            "justify_items": null,
            "left": null,
            "margin": null,
            "max_height": null,
            "max_width": null,
            "min_height": null,
            "min_width": null,
            "object_fit": null,
            "object_position": null,
            "order": null,
            "overflow": null,
            "overflow_x": null,
            "overflow_y": null,
            "padding": null,
            "right": null,
            "top": null,
            "visibility": null,
            "width": null
          }
        },
        "97f32f6cfc084c98b3af5233764973cc": {
          "model_module": "@jupyter-widgets/controls",
          "model_name": "DescriptionStyleModel",
          "model_module_version": "1.5.0",
          "state": {
            "_model_module": "@jupyter-widgets/controls",
            "_model_module_version": "1.5.0",
            "_model_name": "DescriptionStyleModel",
            "_view_count": null,
            "_view_module": "@jupyter-widgets/base",
            "_view_module_version": "1.2.0",
            "_view_name": "StyleView",
            "description_width": ""
          }
        },
        "1c204c859f2240aea0cae7f52fe1174d": {
          "model_module": "@jupyter-widgets/base",
          "model_name": "LayoutModel",
          "model_module_version": "1.2.0",
          "state": {
            "_model_module": "@jupyter-widgets/base",
            "_model_module_version": "1.2.0",
            "_model_name": "LayoutModel",
            "_view_count": null,
            "_view_module": "@jupyter-widgets/base",
            "_view_module_version": "1.2.0",
            "_view_name": "LayoutView",
            "align_content": null,
            "align_items": null,
            "align_self": null,
            "border": null,
            "bottom": null,
            "display": null,
            "flex": null,
            "flex_flow": null,
            "grid_area": null,
            "grid_auto_columns": null,
            "grid_auto_flow": null,
            "grid_auto_rows": null,
            "grid_column": null,
            "grid_gap": null,
            "grid_row": null,
            "grid_template_areas": null,
            "grid_template_columns": null,
            "grid_template_rows": null,
            "height": null,
            "justify_content": null,
            "justify_items": null,
            "left": null,
            "margin": null,
            "max_height": null,
            "max_width": null,
            "min_height": null,
            "min_width": null,
            "object_fit": null,
            "object_position": null,
            "order": null,
            "overflow": null,
            "overflow_x": null,
            "overflow_y": null,
            "padding": null,
            "right": null,
            "top": null,
            "visibility": null,
            "width": null
          }
        },
        "471f2e9750d54c7aaf49e83394bdc95d": {
          "model_module": "@jupyter-widgets/controls",
          "model_name": "ProgressStyleModel",
          "model_module_version": "1.5.0",
          "state": {
            "_model_module": "@jupyter-widgets/controls",
            "_model_module_version": "1.5.0",
            "_model_name": "ProgressStyleModel",
            "_view_count": null,
            "_view_module": "@jupyter-widgets/base",
            "_view_module_version": "1.2.0",
            "_view_name": "StyleView",
            "bar_color": null,
            "description_width": ""
          }
        },
        "650938d210ab4b2184b6f289c4cfe970": {
          "model_module": "@jupyter-widgets/base",
          "model_name": "LayoutModel",
          "model_module_version": "1.2.0",
          "state": {
            "_model_module": "@jupyter-widgets/base",
            "_model_module_version": "1.2.0",
            "_model_name": "LayoutModel",
            "_view_count": null,
            "_view_module": "@jupyter-widgets/base",
            "_view_module_version": "1.2.0",
            "_view_name": "LayoutView",
            "align_content": null,
            "align_items": null,
            "align_self": null,
            "border": null,
            "bottom": null,
            "display": null,
            "flex": null,
            "flex_flow": null,
            "grid_area": null,
            "grid_auto_columns": null,
            "grid_auto_flow": null,
            "grid_auto_rows": null,
            "grid_column": null,
            "grid_gap": null,
            "grid_row": null,
            "grid_template_areas": null,
            "grid_template_columns": null,
            "grid_template_rows": null,
            "height": null,
            "justify_content": null,
            "justify_items": null,
            "left": null,
            "margin": null,
            "max_height": null,
            "max_width": null,
            "min_height": null,
            "min_width": null,
            "object_fit": null,
            "object_position": null,
            "order": null,
            "overflow": null,
            "overflow_x": null,
            "overflow_y": null,
            "padding": null,
            "right": null,
            "top": null,
            "visibility": null,
            "width": null
          }
        },
        "ba70b105269b4ac3bcc58a813cd35a15": {
          "model_module": "@jupyter-widgets/controls",
          "model_name": "DescriptionStyleModel",
          "model_module_version": "1.5.0",
          "state": {
            "_model_module": "@jupyter-widgets/controls",
            "_model_module_version": "1.5.0",
            "_model_name": "DescriptionStyleModel",
            "_view_count": null,
            "_view_module": "@jupyter-widgets/base",
            "_view_module_version": "1.2.0",
            "_view_name": "StyleView",
            "description_width": ""
          }
        }
      }
    }
  },
  "cells": [
    {
      "cell_type": "markdown",
      "metadata": {
        "id": "view-in-github",
        "colab_type": "text"
      },
      "source": [
        "<a href=\"https://colab.research.google.com/github/DineshSiddhartha/SAI_A7/blob/main/STTAI_A7.ipynb\" target=\"_parent\"><img src=\"https://colab.research.google.com/assets/colab-badge.svg\" alt=\"Open In Colab\"/></a>"
      ]
    },
    {
      "cell_type": "markdown",
      "source": [
        "Logging"
      ],
      "metadata": {
        "id": "0WROosxAW7B8"
      }
    },
    {
      "cell_type": "code",
      "source": [
        "import json\n",
        "import os\n",
        "\n",
        "def update_log(dataset_name, train_history, filename=\"logged_metrics.json\"):\n",
        "\n",
        "    if os.path.exists(filename):\n",
        "        with open(filename, \"r\") as f:\n",
        "            logs = json.load(f)\n",
        "    else:\n",
        "        logs = {}\n",
        "\n",
        "    # Add new dataset log\n",
        "    logs[dataset_name] = {\n",
        "        \"Training Losses\": train_history[\"train_losses\"],\n",
        "        \"Training Accuracies\": train_history[\"train_accuracies\"],\n",
        "        \"Validation Losses\": train_history[\"val_losses\"],\n",
        "        \"Validation Accuracies\": train_history[\"val_accuracies\"],\n",
        "    }\n",
        "\n",
        "    # Save updated logs back to file\n",
        "    with open(filename, \"w\") as f:\n",
        "        json.dump(logs, f, indent=4)"
      ],
      "metadata": {
        "id": "C18EfA1vVr0C"
      },
      "execution_count": null,
      "outputs": []
    },
    {
      "cell_type": "markdown",
      "source": [
        "Helper code for plotting curves and confusion matrix\n"
      ],
      "metadata": {
        "id": "GSZ2iWAK6Eh1"
      }
    },
    {
      "cell_type": "code",
      "source": [
        "import torch\n",
        "import matplotlib.pyplot as plt\n",
        "import seaborn as sns\n",
        "import numpy as np\n",
        "from sklearn.metrics import confusion_matrix, accuracy_score\n",
        "from torch.utils.tensorboard import SummaryWriter\n",
        "\n",
        "def plot_confusion_matrix(model, val_loader, device, class_names, writer, task_name):\n",
        "    model.eval()\n",
        "    y_true = []\n",
        "    y_pred = []\n",
        "\n",
        "    with torch.no_grad():\n",
        "        for data, target in val_loader:\n",
        "            data, target = data.to(device), target.to(device)\n",
        "            data = data.view(data.size(0), -1)\n",
        "            output = model(data)\n",
        "            _, predicted = torch.max(output, 1)\n",
        "            y_true.extend(target.argmax(dim=1).cpu().numpy())\n",
        "            y_pred.extend(predicted.cpu().numpy())\n",
        "\n",
        "    cm = confusion_matrix(y_true, y_pred)\n",
        "    accuracy = accuracy_score(y_true, y_pred)\n",
        "\n",
        "    # Create figure\n",
        "    fig, ax = plt.subplots(figsize=(6, 5))\n",
        "    sns.heatmap(cm, annot=True, fmt=\"d\", cmap=\"Blues\", xticklabels=class_names, yticklabels=class_names)\n",
        "    ax.set_xlabel(\"Predicted Label\")\n",
        "    ax.set_ylabel(\"True Label\")\n",
        "    ax.set_title(f\"Confusion Matrix (Accuracy: {accuracy:.2f})\")\n",
        "\n",
        "    # Show the figure\n",
        "    plt.show()\n",
        "\n",
        "    writer.add_figure(f'Confusion Matrix (Task {task_name})', fig, global_step=1)\n",
        "\n",
        "    # Close figure to free memory\n",
        "    plt.close(fig)\n",
        "\n",
        "def evaluate_final_model(model, val_loader, criterion, device, class_names, writer, task_name):\n",
        "    plot_confusion_matrix(model, val_loader, device, class_names, writer, task_name)\n"
      ],
      "metadata": {
        "id": "eT-mEsCv6C9R"
      },
      "execution_count": null,
      "outputs": []
    },
    {
      "cell_type": "markdown",
      "source": [
        "1. Dataset Preparation (10%)"
      ],
      "metadata": {
        "id": "WlgNkkSsRtcT"
      }
    },
    {
      "cell_type": "code",
      "execution_count": null,
      "metadata": {
        "id": "rJSYesfVPPbS"
      },
      "outputs": [],
      "source": [
        "import pandas as pd"
      ]
    },
    {
      "cell_type": "code",
      "source": [
        "url = \"https://raw.githubusercontent.com/clairett/pytorch-sentiment-classification/master/data/SST2/train.tsv\"\n",
        "df_train = pd.read_csv(url, sep='\\t', names=[\"review\", \"sentiment\"])\n",
        "\n",
        "print(df_train.head())"
      ],
      "metadata": {
        "colab": {
          "base_uri": "https://localhost:8080/"
        },
        "id": "U9PsoybCPVm8",
        "outputId": "4452f3e3-005e-4c66-c6bc-4c7363f9183e"
      },
      "execution_count": null,
      "outputs": [
        {
          "output_type": "stream",
          "name": "stdout",
          "text": [
            "                                              review  sentiment\n",
            "0  a stirring , funny and finally transporting re...          1\n",
            "1  apparently reassembled from the cutting room f...          0\n",
            "2  they presume their audience wo n't sit still f...          0\n",
            "3  this is a visually stunning rumination on love...          1\n",
            "4  jonathan parker 's bartleby should have been t...          1\n"
          ]
        }
      ]
    },
    {
      "cell_type": "code",
      "source": [
        "print(df_train.columns)"
      ],
      "metadata": {
        "colab": {
          "base_uri": "https://localhost:8080/"
        },
        "id": "1rBzRNcMQyod",
        "outputId": "9b0920af-41b7-4512-ef64-eebfa4f8065c"
      },
      "execution_count": null,
      "outputs": [
        {
          "output_type": "stream",
          "name": "stdout",
          "text": [
            "Index(['review', 'sentiment'], dtype='object')\n"
          ]
        }
      ]
    },
    {
      "cell_type": "code",
      "source": [
        "url = \"https://raw.githubusercontent.com/clairett/pytorch-sentiment-classification/master/data/SST2/test.tsv\"\n",
        "df_test = pd.read_csv(url, sep='\\t', names=[\"review\", \"sentiment\"])\n",
        "\n",
        "print(df_test.head())"
      ],
      "metadata": {
        "colab": {
          "base_uri": "https://localhost:8080/"
        },
        "id": "6FTYLoaYP3JH",
        "outputId": "4fd82a2f-ee48-4667-9605-8c5369f8c451"
      },
      "execution_count": null,
      "outputs": [
        {
          "output_type": "stream",
          "name": "stdout",
          "text": [
            "                                              review  sentiment\n",
            "0       no movement , no yuks , not much of anything          0\n",
            "1  a gob of drivel so sickly sweet , even the eag...          0\n",
            "2  gangs of new york is an unapologetic mess , wh...          0\n",
            "3  we never really feel involved with the story ,...          0\n",
            "4              this is one of polanski 's best films          1\n"
          ]
        }
      ]
    },
    {
      "cell_type": "code",
      "source": [
        "url = \"https://raw.githubusercontent.com/Ankit152/IMDB-sentiment-analysis/master/IMDB-Dataset.csv\"\n",
        "df_imdb = pd.read_csv(url)\n",
        "\n",
        "print(df_imdb.head())"
      ],
      "metadata": {
        "colab": {
          "base_uri": "https://localhost:8080/"
        },
        "id": "MMpvEVdXP_Lw",
        "outputId": "579d7474-d724-4041-c75d-b5df64b8d9bc"
      },
      "execution_count": null,
      "outputs": [
        {
          "output_type": "stream",
          "name": "stdout",
          "text": [
            "                                              review sentiment\n",
            "0  One of the other reviewers has mentioned that ...  positive\n",
            "1  A wonderful little production. <br /><br />The...  positive\n",
            "2  I thought this was a wonderful way to spend ti...  positive\n",
            "3  Basically there's a family where a little boy ...  negative\n",
            "4  Petter Mattei's \"Love in the Time of Money\" is...  positive\n"
          ]
        }
      ]
    },
    {
      "cell_type": "code",
      "source": [
        "from sklearn.model_selection import train_test_split"
      ],
      "metadata": {
        "id": "HnT8rtQ9QT-6"
      },
      "execution_count": null,
      "outputs": []
    },
    {
      "cell_type": "code",
      "source": [
        "X_train,X_val,y_train,y_val=train_test_split(df_train['review'],df_train['sentiment'],test_size=0.2,random_state=42)"
      ],
      "metadata": {
        "id": "Ri9GL_tsQjOh"
      },
      "execution_count": null,
      "outputs": []
    },
    {
      "cell_type": "markdown",
      "source": [
        "2. Construct a Multi-Layer Perceptron (MLP) model. (20%)"
      ],
      "metadata": {
        "id": "knPge5qWRuvb"
      }
    },
    {
      "cell_type": "code",
      "source": [
        "import torch\n",
        "import torch.nn as nn\n",
        "import torch.optim as optim\n",
        "import torchvision.transforms as transforms\n",
        "import matplotlib.pyplot as plt\n",
        "import numpy as np"
      ],
      "metadata": {
        "id": "ucx0vb2UejSx"
      },
      "execution_count": null,
      "outputs": []
    },
    {
      "cell_type": "code",
      "source": [
        "class SimpleMLP(nn.Module):\n",
        "    \"\"\"\n",
        "    A simple 3-layer MLP with dropout and batch normalization.\n",
        "\n",
        "    Architecture:\n",
        "        Input -> Linear -> BatchNorm -> ReLU -> Dropout ->\n",
        "        Linear -> BatchNorm -> ReLU -> Dropout ->\n",
        "        Linear -> Output\n",
        "\n",
        "    Args:\n",
        "        input_size (int): Size of input features\n",
        "        hidden_size (int): Number of neurons in hidden layers\n",
        "        output_size (int): Number of output classes\n",
        "    \"\"\"\n",
        "    def __init__(self, input_size, hidden_size1,hidden_size2,hidden_size3,hidden_size4, output_size):\n",
        "        \"\"\"Initialize a simple 3-layer MLP\"\"\"\n",
        "        super(SimpleMLP, self).__init__()\n",
        "        self.layer1 = nn.Linear(input_size, hidden_size1)\n",
        "        self.layer2 = nn.Linear(hidden_size1, hidden_size2)\n",
        "        self.layer3 = nn.Linear(hidden_size2, hidden_size3)\n",
        "        self.layer4 = nn.Linear(hidden_size3, hidden_size4)\n",
        "        self.layer5 = nn.Linear(hidden_size4, output_size)\n",
        "        self.relu = nn.ReLU()\n",
        "        self.dropout = nn.Dropout(0.3)  # Added dropout for regularization\n",
        "\n",
        "    def forward(self, x):\n",
        "        \"\"\"\n",
        "        Forward pass of the network.\n",
        "\n",
        "        Parameters:\n",
        "        -----------\n",
        "        x : torch.Tensor\n",
        "            Input tensor of shape (batch_size, input_size)\n",
        "            For MNIST/Fashion-MNIST: (batch_size, 784)\n",
        "\n",
        "        Returns:\n",
        "        --------\n",
        "        torch.Tensor\n",
        "            Output tensor of shape (batch_size, output_size)\n",
        "            Contains raw logits (pre-softmax)\n",
        "\n",
        "        Notes:\n",
        "        ------\n",
        "        - Input is automatically flattened in the training loop\n",
        "        - BatchNorm is applied before ReLU as per standard practice\n",
        "        - Dropout is applied after ReLU to maintain effective regularization\n",
        "        \"\"\"\n",
        "        x = self.dropout(self.relu((self.layer1(x))))\n",
        "        x = self.dropout(self.relu((self.layer2(x))))\n",
        "        x = self.dropout(self.relu((self.layer3(x))))\n",
        "        x = self.dropout(self.relu((self.layer4(x))))\n",
        "        x = self.layer5(x)\n",
        "        return x"
      ],
      "metadata": {
        "id": "PNaKJNAQd9rI"
      },
      "execution_count": null,
      "outputs": []
    },
    {
      "cell_type": "code",
      "source": [
        "import torch\n",
        "from torch.utils.tensorboard import SummaryWriter\n",
        "from datetime import datetime\n",
        "\n",
        "def train_model(model, train_loader, val_loader, criterion, optimizer, epochs, task_name=\"\"):\n",
        "    \"\"\"\n",
        "    Train the model, track performance metrics, and save checkpoint when validation loss decreases.\n",
        "\n",
        "    Args:\n",
        "        model (nn.Module): The neural network model\n",
        "        train_loader (DataLoader): DataLoader for training data\n",
        "        val_loader (DataLoader): DataLoader for validation data\n",
        "        criterion: Loss function\n",
        "        optimizer: Optimization algorithm\n",
        "        epochs (int): Number of training epochs\n",
        "        task_name (str): Name of the current task for logging\n",
        "\n",
        "    Returns:\n",
        "        dict: Dictionary containing training history (losses, accuracies)\n",
        "    \"\"\"\n",
        "    model.train()\n",
        "    total_batches = len(train_loader)\n",
        "    best_val_accuracy = 0  # Track best validation loss\n",
        "\n",
        "\n",
        "    #TensorBoard writer initialization\n",
        "    log_dir = f\"runs/{task_name}_{datetime.now().strftime('%Y-%m-%d_%H-%M-%S')}\"\n",
        "    writer = SummaryWriter(log_dir)\n",
        "\n",
        "    # Logs for tracking performance\n",
        "    history = {\n",
        "        'train_losses': [],\n",
        "        'train_accuracies': [],\n",
        "        'val_losses': [],\n",
        "        'val_accuracies': []\n",
        "    }\n",
        "\n",
        "    for epoch in range(epochs):\n",
        "        running_loss = 0.0\n",
        "        correct = 0\n",
        "        total = 0\n",
        "\n",
        "        for batch_idx, (data, target) in enumerate(train_loader):\n",
        "            data, target = data.to(device), target.to(device)\n",
        "            data = data.view(data.size(0), -1)\n",
        "\n",
        "            optimizer.zero_grad()\n",
        "            output = model(data)\n",
        "            loss = criterion(output, target)\n",
        "\n",
        "            loss.backward()\n",
        "            optimizer.step()\n",
        "\n",
        "            _, predicted = torch.max(output.data, 1)\n",
        "            total += target.size(0)\n",
        "            correct += (predicted == target.argmax(dim=1)).sum().item()\n",
        "\n",
        "            running_loss += loss.item()\n",
        "\n",
        "            if batch_idx % 100 == 0:\n",
        "                batch_accuracy = 100 * correct / total\n",
        "                print(f'{task_name} - Epoch: {epoch+1}/{epochs}, '\n",
        "                      f'Batch: {batch_idx}/{total_batches}, '\n",
        "                      f'Loss: {loss.item():.4f}, '\n",
        "                      f'Accuracy: {batch_accuracy:.2f}%')\n",
        "\n",
        "                # Logging training loss & accuracy to TensorBoard\n",
        "                writer.add_scalar(f\"{task_name}/Training Loss\", loss.item(), epoch * total_batches + batch_idx)\n",
        "                writer.add_scalar(f\"{task_name}/Training Accuracy\", batch_accuracy, epoch * total_batches + batch_idx)\n",
        "\n",
        "        # Computing epoch-wise training loss & accuracy\n",
        "        train_loss = running_loss / len(train_loader)\n",
        "        train_accuracy = 100 * correct / total\n",
        "\n",
        "        # Computing validation loss & accuracy\n",
        "        val_loss, val_accuracy = evaluate_model(model, val_loader, criterion, task_name)\n",
        "\n",
        "        # Storing logs\n",
        "        history['train_losses'].append(train_loss)\n",
        "        history['train_accuracies'].append(train_accuracy)\n",
        "        history['val_losses'].append(val_loss)\n",
        "        history['val_accuracies'].append(val_accuracy)\n",
        "\n",
        "        # Logging epoch-wise metrics to TensorBoard\n",
        "        writer.add_scalar(f\"{task_name}/Epoch Training Loss\", train_loss, epoch)\n",
        "        writer.add_scalar(f\"{task_name}/Epoch Training Accuracy\", train_accuracy, epoch)\n",
        "        writer.add_scalar(f\"{task_name}/Epoch Validation Loss\", val_loss, epoch)\n",
        "        writer.add_scalar(f\"{task_name}/Epoch Validation Accuracy\", val_accuracy, epoch)\n",
        "\n",
        "        # Saving checkpoint if validation loss improves\n",
        "        if val_accuracy > best_val_accuracy:\n",
        "            best_val_accuracy = val_accuracy  # Update best loss\n",
        "            checkpoint = {\n",
        "                'model_state_dict': model.state_dict(),\n",
        "                'optimizer_state_dict': optimizer.state_dict(),\n",
        "                'hyperparameters': {\n",
        "                    'input_size': input_size,\n",
        "                    'hidden_size1': hidden_size1,\n",
        "                    'hidden_size2': hidden_size2,\n",
        "                    'hidden_size3': hidden_size3,\n",
        "                    'hidden_size4': hidden_size4,\n",
        "                    'output_size': output_size,\n",
        "                },\n",
        "                'performance': {\n",
        "                    'val_loss': val_loss,\n",
        "                    'best_val_accuracy': best_val_accuracy\n",
        "                },\n",
        "                'training_history': history  # Saving entire history for logging\n",
        "            }\n",
        "            torch.save(checkpoint, f'{task_name}_best_checkpoint_{best_val_accuracy:.4f}.pth')\n",
        "            print(f\"{task_name} checkpoint saved with val_accuracy: {best_val_accuracy:.4f}\")\n",
        "\n",
        "\n",
        "    # Logging Model Architecture\n",
        "    model_arch = (model)\n",
        "    writer.add_text(\"Model Architecture\", f\"\\n{model_arch}\\n\")\n",
        "    # Logging hyperparameters to TensorBoard\n",
        "    writer.add_hparams(\n",
        "        {\n",
        "            \"initial_lr\": initial_lr,\n",
        "            \"transfer_lr\": transfer_lr,\n",
        "            \"epochs\": epochs,\n",
        "            \"optimiser\": \"Adam\",\n",
        "            \"Number of Batches\":total_batches,\n",
        "        },\n",
        "        {\n",
        "            f\"{task_name}/Final Validation Accuracy\": best_val_accuracy\n",
        "        }\n",
        "    )\n",
        "\n",
        "    writer.close()\n",
        "\n",
        "    return history\n"
      ],
      "metadata": {
        "id": "4DrHcLMIeL7f"
      },
      "execution_count": null,
      "outputs": []
    },
    {
      "cell_type": "code",
      "source": [
        "def evaluate_model(model, val_loader, criterion, task_name=\"\"):\n",
        "    \"\"\"\n",
        "    Compute validation loss and accuracy.\n",
        "\n",
        "    Args:\n",
        "        model (nn.Module): Trained model\n",
        "        val_loader (DataLoader): Validation dataset loader\n",
        "        criterion: Loss function\n",
        "        task_name (str): Name of the dataset for logging\n",
        "\n",
        "    Returns:\n",
        "        tuple: Validation loss and accuracy\n",
        "    \"\"\"\n",
        "    model.eval()  # Set model to evaluation mode\n",
        "    val_loss = 0.0\n",
        "    correct = 0\n",
        "    total = 0\n",
        "\n",
        "    with torch.no_grad():  # Disable gradient computation\n",
        "        for data, target in val_loader:\n",
        "            data, target = data.to(device), target.to(device)\n",
        "            data = data.view(data.size(0), -1)\n",
        "            output = model(data)\n",
        "            loss = criterion(output, target)\n",
        "\n",
        "            val_loss += loss.item()\n",
        "            _, predicted = torch.max(output, 1)\n",
        "            correct += (predicted == target.argmax(dim=1)).sum().item()  # Handle one-hot encoding\n",
        "            total += target.size(0)\n",
        "\n",
        "    avg_loss = val_loss / len(val_loader)\n",
        "    accuracy = 100 * correct / total\n",
        "    print(f\"{task_name} - Validation Loss: {avg_loss:.4f}, Accuracy: {accuracy:.2f}%\")\n",
        "    return avg_loss, accuracy\n"
      ],
      "metadata": {
        "id": "Y0oGe1kwsUk0"
      },
      "execution_count": null,
      "outputs": []
    },
    {
      "cell_type": "code",
      "source": [
        "import matplotlib.pyplot as plt\n",
        "\n",
        "def plot_training_progress(history, title):\n",
        "    \"\"\"\n",
        "    Plot training & validation loss and accuracy curves.\n",
        "\n",
        "    Args:\n",
        "        history (dict): Dictionary containing training and validation metrics\n",
        "        title (str): Title for the plots\n",
        "\n",
        "    Returns:\n",
        "        None. Displays a matplotlib figure with two subplots.\n",
        "    \"\"\"\n",
        "    epochs = range(1, len(history['train_losses']) + 1)\n",
        "\n",
        "    fig, (ax1, ax2) = plt.subplots(1, 2, figsize=(12, 4))\n",
        "\n",
        "    # Plot Loss\n",
        "    ax1.plot(epochs, history['train_losses'], 'b-o', label='Train Loss')\n",
        "    ax1.plot(epochs, history['val_losses'], 'g-s', label='Val Loss')\n",
        "    ax1.set_title(f'{title} - Loss')\n",
        "    ax1.set_xlabel('Epochs')\n",
        "    ax1.set_ylabel('Loss')\n",
        "    ax1.legend()\n",
        "    ax1.grid(True)\n",
        "\n",
        "    # Plot Accuracy\n",
        "    ax2.plot(epochs, history['train_accuracies'], 'r-o', label='Train Acc')\n",
        "    ax2.plot(epochs, history['val_accuracies'], 'c-s', label='Val Acc')\n",
        "    ax2.set_title(f'{title} - Accuracy')\n",
        "    ax2.set_xlabel('Epochs')\n",
        "    ax2.set_ylabel('Accuracy (%)')\n",
        "    ax2.legend()\n",
        "    ax2.grid(True)\n",
        "\n",
        "    plt.tight_layout()\n",
        "    plt.show()\n"
      ],
      "metadata": {
        "id": "FMsPg-MWe8D2"
      },
      "execution_count": null,
      "outputs": []
    },
    {
      "cell_type": "code",
      "source": [
        "# Hyperparameters\n",
        "input_size = 10000\n",
        "hidden_size1 = 512\n",
        "hidden_size2 = 256\n",
        "hidden_size3 = 128\n",
        "hidden_size4 = 64\n",
        "output_size = 2\n",
        "batch_size = 64\n",
        "initial_lr = 0.001\n",
        "transfer_lr = 0.0001\n",
        "epochs = 10\n",
        "\n",
        "# Data preprocessing\n",
        "transform = transforms.Compose([\n",
        "    transforms.ToTensor(),\n",
        "])\n",
        "\n",
        "# Set random seeds for reproducibility\n",
        "torch.manual_seed(42)\n",
        "np.random.seed(42)\n",
        "\n",
        "# Device configuration\n",
        "device = torch.device('cuda' if torch.cuda.is_available() else 'cpu')\n",
        "print(f\"Using device: {device}\")\n",
        "\n",
        "# Initialize model and training components\n",
        "model = SimpleMLP(input_size, hidden_size1,hidden_size2,hidden_size3,hidden_size4, output_size).to(device)\n",
        "criterion = nn.CrossEntropyLoss()\n",
        "optimizer = optim.Adam(model.parameters(), lr=initial_lr)\n",
        "\n",
        "print(\"Model architecture:\")\n",
        "print(model)\n"
      ],
      "metadata": {
        "colab": {
          "base_uri": "https://localhost:8080/"
        },
        "id": "vj5msm5sfEpb",
        "outputId": "7a12f233-4d58-4e2b-a586-ea6880c98fcb"
      },
      "execution_count": null,
      "outputs": [
        {
          "output_type": "stream",
          "name": "stdout",
          "text": [
            "Using device: cuda\n",
            "Model architecture:\n",
            "SimpleMLP(\n",
            "  (layer1): Linear(in_features=10000, out_features=512, bias=True)\n",
            "  (layer2): Linear(in_features=512, out_features=256, bias=True)\n",
            "  (layer3): Linear(in_features=256, out_features=128, bias=True)\n",
            "  (layer4): Linear(in_features=128, out_features=64, bias=True)\n",
            "  (layer5): Linear(in_features=64, out_features=2, bias=True)\n",
            "  (relu): ReLU()\n",
            "  (dropout): Dropout(p=0.3, inplace=False)\n",
            ")\n"
          ]
        }
      ]
    },
    {
      "cell_type": "code",
      "source": [
        "hyperparameters = {\n",
        "    \"input_size\": input_size,\n",
        "    \"hidden_size1\": hidden_size1,\n",
        "    \"hidden_size2\": hidden_size2,\n",
        "    \"hidden_size3\": hidden_size3,\n",
        "    \"hidden_size4\": hidden_size4,\n",
        "    \"output_size\": output_size,\n",
        "    \"batch_size\": batch_size,\n",
        "    \"initial_lr\": initial_lr,\n",
        "    \"transfer_lr\": transfer_lr,\n",
        "    \"epochs\": epochs\n",
        "}\n",
        "\n",
        "print(\"Model Hyperparameters:\")\n",
        "for key, value in hyperparameters.items():\n",
        "    print(f\"{key}: {value}\")\n"
      ],
      "metadata": {
        "colab": {
          "base_uri": "https://localhost:8080/"
        },
        "id": "MJEgBTZmTeIg",
        "outputId": "ad0a381f-d4d7-4295-8733-e18aa26e23a4"
      },
      "execution_count": null,
      "outputs": [
        {
          "output_type": "stream",
          "name": "stdout",
          "text": [
            "Model Hyperparameters:\n",
            "input_size: 10000\n",
            "hidden_size1: 512\n",
            "hidden_size2: 256\n",
            "hidden_size3: 128\n",
            "hidden_size4: 64\n",
            "output_size: 2\n",
            "batch_size: 64\n",
            "initial_lr: 0.001\n",
            "transfer_lr: 0.0001\n",
            "epochs: 10\n"
          ]
        }
      ]
    },
    {
      "cell_type": "code",
      "source": [
        "def count_trainable_params(model):\n",
        "    return sum(p.numel() for p in model.parameters() if p.requires_grad)\n",
        "\n",
        "num_params = count_trainable_params(model)\n",
        "\n",
        "print(f\"Total Trainable Parameters: {num_params}\")"
      ],
      "metadata": {
        "colab": {
          "base_uri": "https://localhost:8080/"
        },
        "id": "xTIHA9CKiF-v",
        "outputId": "2cd14c9f-ad0a-4124-da46-e8da16edbd24"
      },
      "execution_count": null,
      "outputs": [
        {
          "output_type": "stream",
          "name": "stdout",
          "text": [
            "Total Trainable Parameters: 5293122\n"
          ]
        }
      ]
    },
    {
      "cell_type": "code",
      "source": [
        "import torch\n",
        "import torch.nn as nn\n",
        "import torch.optim as optim\n",
        "import torch.utils.data as data\n",
        "from transformers import AutoTokenizer, AutoModel\n",
        "from sklearn.feature_extraction.text import CountVectorizer\n",
        "from sklearn.model_selection import train_test_split\n",
        "from sklearn.metrics import accuracy_score\n",
        "import numpy as np"
      ],
      "metadata": {
        "id": "22mUE0BWo9NK"
      },
      "execution_count": null,
      "outputs": []
    },
    {
      "cell_type": "code",
      "source": [
        "def process_bow(train_texts, max_features=10000):\n",
        "    vectorizer = CountVectorizer(max_features=max_features)\n",
        "    x = vectorizer.fit_transform(train_texts).toarray()\n",
        "    return torch.tensor(x, dtype=torch.float32)"
      ],
      "metadata": {
        "id": "BVJDq76DuGQk"
      },
      "execution_count": null,
      "outputs": []
    },
    {
      "cell_type": "code",
      "source": [
        "# Combine train and test reviews\n",
        "all_reviews = list(df_train[\"review\"]) + list(df_test[\"review\"])\n",
        "\n",
        "# Process combined data\n",
        "X_all_bow = process_bow(all_reviews)\n",
        "\n",
        "# Split back into train and test sets\n",
        "X_train_bow = X_all_bow[:len(df_train)]\n",
        "X_test_bow = X_all_bow[len(df_train):]\n"
      ],
      "metadata": {
        "id": "2JbtgX0A5MUy"
      },
      "execution_count": null,
      "outputs": []
    },
    {
      "cell_type": "code",
      "source": [
        "from tensorflow.keras.utils import to_categorical\n",
        "\n",
        "y_train_one_hot_bow = to_categorical(df_train['sentiment'], num_classes=2)\n",
        "y_val_one_hot_bow = to_categorical(y_val, num_classes=2)"
      ],
      "metadata": {
        "id": "UCxiogCDjOYs"
      },
      "execution_count": null,
      "outputs": []
    },
    {
      "cell_type": "code",
      "source": [
        "from torch.utils.data import Dataset,DataLoader\n",
        "import torchvision.datasets as datasets"
      ],
      "metadata": {
        "id": "n_t4Ker0kRpa"
      },
      "execution_count": null,
      "outputs": []
    },
    {
      "cell_type": "code",
      "source": [
        "class TextDataset(Dataset):\n",
        "    def __init__(self, X, y):\n",
        "        self.X = torch.tensor(X, dtype=torch.float32)  # Convert to tensors\n",
        "        self.y = torch.tensor(y, dtype=torch.float)  # Convert labels to tensors\n",
        "\n",
        "    def __len__(self):\n",
        "        return len(self.X)\n",
        "\n",
        "    def __getitem__(self, idx):\n",
        "        return self.X[idx], self.y[idx]\n",
        "\n",
        "# Create dataset and DataLoader\n",
        "train_dataset = TextDataset(X_train_bow, y_train_one_hot_bow)\n",
        "train_loader = DataLoader(train_dataset, batch_size=32, shuffle=True)"
      ],
      "metadata": {
        "colab": {
          "base_uri": "https://localhost:8080/"
        },
        "id": "Zhe8egKSfnQI",
        "outputId": "5eb45cdb-3bf7-4446-a90f-02d9f029f3c5"
      },
      "execution_count": null,
      "outputs": [
        {
          "output_type": "stream",
          "name": "stderr",
          "text": [
            "<ipython-input-23-fbb32aa4a304>:3: UserWarning: To copy construct from a tensor, it is recommended to use sourceTensor.clone().detach() or sourceTensor.clone().detach().requires_grad_(True), rather than torch.tensor(sourceTensor).\n",
            "  self.X = torch.tensor(X, dtype=torch.float32)  # Convert to tensors\n"
          ]
        }
      ]
    },
    {
      "cell_type": "markdown",
      "source": [
        "3. Implement case 1: Bag-of-words (20%)"
      ],
      "metadata": {
        "id": "0fRbrSXqWace"
      }
    },
    {
      "cell_type": "code",
      "source": [
        "X_train_bow,X_val_bow,y_train_one_hot_bow,y_val_one_hot_bow=train_test_split(X_train_bow,y_train_one_hot_bow,test_size=0.2,random_state=42)"
      ],
      "metadata": {
        "id": "dy44eMYpDc5n"
      },
      "execution_count": null,
      "outputs": []
    },
    {
      "cell_type": "code",
      "source": [
        "X_train_bow.shape"
      ],
      "metadata": {
        "colab": {
          "base_uri": "https://localhost:8080/"
        },
        "id": "aw6pB-byDWyF",
        "outputId": "85eed9dc-b48f-494c-edf0-f60ff8b72dcf"
      },
      "execution_count": null,
      "outputs": [
        {
          "output_type": "execute_result",
          "data": {
            "text/plain": [
              "torch.Size([5536, 10000])"
            ]
          },
          "metadata": {},
          "execution_count": 25
        }
      ]
    },
    {
      "cell_type": "code",
      "source": [
        "print(\"X_train_bow shape:\", X_train_bow.shape)\n",
        "print(\"y_train_one_hot shape:\", y_train_one_hot_bow.shape)\n",
        "print(\"X_val_bow shape:\", X_val_bow.shape)\n",
        "print(\"y_val_one_hot shape:\", y_val_one_hot_bow.shape)\n"
      ],
      "metadata": {
        "colab": {
          "base_uri": "https://localhost:8080/"
        },
        "id": "JBJ7zQBHA_Pi",
        "outputId": "b1537539-9f21-439d-a74d-235d6de99b3b"
      },
      "execution_count": null,
      "outputs": [
        {
          "output_type": "stream",
          "name": "stdout",
          "text": [
            "X_train_bow shape: torch.Size([5536, 10000])\n",
            "y_train_one_hot shape: (5536, 2)\n",
            "X_val_bow shape: torch.Size([1384, 10000])\n",
            "y_val_one_hot shape: (1384, 2)\n"
          ]
        }
      ]
    },
    {
      "cell_type": "code",
      "source": [
        "val_dataset = TextDataset(X_val_bow, y_val_one_hot_bow)\n",
        "val_loader = DataLoader(val_dataset, batch_size=32, shuffle=True)"
      ],
      "metadata": {
        "id": "VOoutcm9tWm3",
        "colab": {
          "base_uri": "https://localhost:8080/"
        },
        "outputId": "903648f6-1f8c-4f00-b919-dcdb114866b3"
      },
      "execution_count": null,
      "outputs": [
        {
          "output_type": "stream",
          "name": "stderr",
          "text": [
            "<ipython-input-23-fbb32aa4a304>:3: UserWarning: To copy construct from a tensor, it is recommended to use sourceTensor.clone().detach() or sourceTensor.clone().detach().requires_grad_(True), rather than torch.tensor(sourceTensor).\n",
            "  self.X = torch.tensor(X, dtype=torch.float32)  # Convert to tensors\n"
          ]
        }
      ]
    },
    {
      "cell_type": "code",
      "source": [
        "history1 = train_model(model, train_loader,val_loader, criterion, optimizer, epochs, \"BOW\")"
      ],
      "metadata": {
        "colab": {
          "base_uri": "https://localhost:8080/"
        },
        "id": "pPixX59DlSYG",
        "outputId": "da419e10-5a08-4081-b230-f7159c2d4c43"
      },
      "execution_count": null,
      "outputs": [
        {
          "output_type": "stream",
          "name": "stdout",
          "text": [
            "BOW - Epoch: 1/10, Batch: 0/217, Loss: 0.6934, Accuracy: 43.75%\n",
            "BOW - Epoch: 1/10, Batch: 100/217, Loss: 0.5400, Accuracy: 62.28%\n",
            "BOW - Epoch: 1/10, Batch: 200/217, Loss: 0.4964, Accuracy: 68.87%\n",
            "BOW - Validation Loss: 0.2344, Accuracy: 92.20%\n",
            "BOW checkpoint saved with val_accuracy: 92.1965\n",
            "BOW - Epoch: 2/10, Batch: 0/217, Loss: 0.2930, Accuracy: 87.50%\n",
            "BOW - Epoch: 2/10, Batch: 100/217, Loss: 0.2358, Accuracy: 91.00%\n",
            "BOW - Epoch: 2/10, Batch: 200/217, Loss: 0.1753, Accuracy: 90.14%\n",
            "BOW - Validation Loss: 0.0564, Accuracy: 98.92%\n",
            "BOW checkpoint saved with val_accuracy: 98.9162\n",
            "BOW - Epoch: 3/10, Batch: 0/217, Loss: 0.1069, Accuracy: 93.75%\n",
            "BOW - Epoch: 3/10, Batch: 100/217, Loss: 0.0325, Accuracy: 98.51%\n",
            "BOW - Epoch: 3/10, Batch: 200/217, Loss: 0.0052, Accuracy: 98.48%\n",
            "BOW - Validation Loss: 0.0083, Accuracy: 99.86%\n",
            "BOW checkpoint saved with val_accuracy: 99.8555\n",
            "BOW - Epoch: 4/10, Batch: 0/217, Loss: 0.0052, Accuracy: 100.00%\n",
            "BOW - Epoch: 4/10, Batch: 100/217, Loss: 0.0009, Accuracy: 99.81%\n",
            "BOW - Epoch: 4/10, Batch: 200/217, Loss: 0.0003, Accuracy: 99.75%\n",
            "BOW - Validation Loss: 0.0050, Accuracy: 99.78%\n",
            "BOW - Epoch: 5/10, Batch: 0/217, Loss: 0.0001, Accuracy: 100.00%\n",
            "BOW - Epoch: 5/10, Batch: 100/217, Loss: 0.0003, Accuracy: 99.78%\n",
            "BOW - Epoch: 5/10, Batch: 200/217, Loss: 0.0003, Accuracy: 99.80%\n",
            "BOW - Validation Loss: 0.0018, Accuracy: 99.93%\n",
            "BOW checkpoint saved with val_accuracy: 99.9277\n",
            "BOW - Epoch: 6/10, Batch: 0/217, Loss: 0.0007, Accuracy: 100.00%\n",
            "BOW - Epoch: 6/10, Batch: 100/217, Loss: 0.0003, Accuracy: 99.88%\n",
            "BOW - Epoch: 6/10, Batch: 200/217, Loss: 0.0001, Accuracy: 99.91%\n",
            "BOW - Validation Loss: 0.0001, Accuracy: 100.00%\n",
            "BOW checkpoint saved with val_accuracy: 100.0000\n",
            "BOW - Epoch: 7/10, Batch: 0/217, Loss: 0.0000, Accuracy: 100.00%\n",
            "BOW - Epoch: 7/10, Batch: 100/217, Loss: 0.0000, Accuracy: 100.00%\n",
            "BOW - Epoch: 7/10, Batch: 200/217, Loss: 0.0000, Accuracy: 100.00%\n",
            "BOW - Validation Loss: 0.0000, Accuracy: 100.00%\n",
            "BOW - Epoch: 8/10, Batch: 0/217, Loss: 0.0000, Accuracy: 100.00%\n",
            "BOW - Epoch: 8/10, Batch: 100/217, Loss: 0.0005, Accuracy: 100.00%\n",
            "BOW - Epoch: 8/10, Batch: 200/217, Loss: 0.0000, Accuracy: 100.00%\n",
            "BOW - Validation Loss: 0.0000, Accuracy: 100.00%\n",
            "BOW - Epoch: 9/10, Batch: 0/217, Loss: 0.0000, Accuracy: 100.00%\n",
            "BOW - Epoch: 9/10, Batch: 100/217, Loss: 0.0002, Accuracy: 100.00%\n",
            "BOW - Epoch: 9/10, Batch: 200/217, Loss: 0.0000, Accuracy: 100.00%\n",
            "BOW - Validation Loss: 0.0000, Accuracy: 100.00%\n",
            "BOW - Epoch: 10/10, Batch: 0/217, Loss: 0.0000, Accuracy: 100.00%\n",
            "BOW - Epoch: 10/10, Batch: 100/217, Loss: 0.0000, Accuracy: 100.00%\n",
            "BOW - Epoch: 10/10, Batch: 200/217, Loss: 0.0001, Accuracy: 100.00%\n",
            "BOW - Validation Loss: 0.0000, Accuracy: 100.00%\n"
          ]
        }
      ]
    },
    {
      "cell_type": "code",
      "source": [
        "y_test_one_hot_bow=to_categorical(df_test[\"sentiment\"], num_classes=2)\n",
        "bow_test_dataset = TextDataset(X_test_bow, y_test_one_hot_bow)\n",
        "bow_test_loader = DataLoader(bow_test_dataset, batch_size=32, shuffle=True)"
      ],
      "metadata": {
        "colab": {
          "base_uri": "https://localhost:8080/"
        },
        "id": "SikViAhH7bMp",
        "outputId": "0dfb1719-0308-4c3d-c9ba-c4a5bdde7689"
      },
      "execution_count": null,
      "outputs": [
        {
          "output_type": "stream",
          "name": "stderr",
          "text": [
            "<ipython-input-23-fbb32aa4a304>:3: UserWarning: To copy construct from a tensor, it is recommended to use sourceTensor.clone().detach() or sourceTensor.clone().detach().requires_grad_(True), rather than torch.tensor(sourceTensor).\n",
            "  self.X = torch.tensor(X, dtype=torch.float32)  # Convert to tensors\n"
          ]
        }
      ]
    },
    {
      "cell_type": "code",
      "source": [
        "class_names = [\"Negative\", \"Positive\"]  # Adjust according to dataset\n",
        "from torch.utils.tensorboard import SummaryWriter\n",
        "\n",
        "writer = SummaryWriter(\"runs/conf_matrix\")\n",
        "evaluate_final_model(model, bow_test_loader, criterion, device, class_names, writer,\"BOW\")\n",
        "\n",
        "writer.close()"
      ],
      "metadata": {
        "colab": {
          "base_uri": "https://localhost:8080/",
          "height": 487
        },
        "id": "ztoJNMVZ7oSz",
        "outputId": "b82ff6cd-b66f-44d7-f06c-68909f754a2c"
      },
      "execution_count": null,
      "outputs": [
        {
          "output_type": "display_data",
          "data": {
            "text/plain": [
              "<Figure size 600x500 with 2 Axes>"
            ],
            "image/png": "[encoded data removed]"
          },
          "metadata": {}
        }
      ]
    },
    {
      "cell_type": "code",
      "source": [
        "# Save MNIST checkpoint\n",
        "checkpoint = {\n",
        "    'model_state_dict': model.state_dict(),\n",
        "    'optimizer_state_dict': optimizer.state_dict(),\n",
        "    'hyperparameters': {\n",
        "        'input_size': input_size,\n",
        "        'hidden_size1': hidden_size1,\n",
        "        'hidden_size2': hidden_size2,\n",
        "        'hidden_size3': hidden_size3,\n",
        "        'hidden_size4': hidden_size4,\n",
        "        'output_size': output_size,\n",
        "    },\n",
        "\n",
        "    'performance': {\n",
        "        'final_train_loss': history1['train_losses'][-1],\n",
        "        'final_train_accuracy': history1['train_accuracies'][-1],\n",
        "        'final_val_loss': history1['val_losses'][-1],\n",
        "        'final_val_accuracy': history1['val_accuracies'][-1],\n",
        "\n",
        "    }\n",
        "}\n",
        "torch.save(checkpoint, 'BOW_checkpoint.pth')\n",
        "print(\"BOW checkpoint saved!\")\n"
      ],
      "metadata": {
        "id": "0S1OcTUQog2s",
        "colab": {
          "base_uri": "https://localhost:8080/"
        },
        "outputId": "58d4cf64-c3d4-4f9b-9944-d77ba9b12675"
      },
      "execution_count": null,
      "outputs": [
        {
          "output_type": "stream",
          "name": "stdout",
          "text": [
            "BOW checkpoint saved!\n"
          ]
        }
      ]
    },
    {
      "cell_type": "code",
      "source": [
        "update_log('BOW', history1)"
      ],
      "metadata": {
        "id": "9zqzO6o5VMR0"
      },
      "execution_count": null,
      "outputs": []
    },
    {
      "cell_type": "code",
      "source": [
        "X_imdb_bow = process_bow((np.array(df_imdb[\"review\"]).tolist()))"
      ],
      "metadata": {
        "id": "_COFi1lwGRaW"
      },
      "execution_count": null,
      "outputs": []
    },
    {
      "cell_type": "code",
      "source": [
        "from tensorflow.keras.utils import to_categorical\n",
        "labels = df_imdb[\"sentiment\"].map({\"positive\": 1, \"negative\": 0}).tolist()\n",
        "\n",
        "y_train_one_hot_imdb = to_categorical(labels, num_classes=2)"
      ],
      "metadata": {
        "id": "YeeJl2AkDFCW"
      },
      "execution_count": null,
      "outputs": []
    },
    {
      "cell_type": "code",
      "source": [
        "X_imdb_bow.shape"
      ],
      "metadata": {
        "colab": {
          "base_uri": "https://localhost:8080/"
        },
        "id": "WaxWo4IJOeU8",
        "outputId": "4da5d5a2-df0a-405d-f06f-367ee0e5e5c9"
      },
      "execution_count": null,
      "outputs": [
        {
          "output_type": "execute_result",
          "data": {
            "text/plain": [
              "torch.Size([50000, 10000])"
            ]
          },
          "metadata": {},
          "execution_count": 35
        }
      ]
    },
    {
      "cell_type": "code",
      "source": [
        "X_imdb_train_bow,X_imdb_val_bow,y_imdb_train_one_hot_bow,y_imdb_val_one_hot_bow=train_test_split(X_imdb_bow,y_train_one_hot_imdb,test_size=0.2,random_state=42)"
      ],
      "metadata": {
        "id": "yuJYyOd0t7fE"
      },
      "execution_count": null,
      "outputs": []
    },
    {
      "cell_type": "code",
      "source": [
        "imdb_train_dataset = TextDataset(X_imdb_train_bow, y_imdb_train_one_hot_bow)\n",
        "imdb_train_loader = DataLoader(imdb_train_dataset, batch_size=32, shuffle=True)"
      ],
      "metadata": {
        "id": "DtHEU9Z2pjbV",
        "colab": {
          "base_uri": "https://localhost:8080/"
        },
        "outputId": "a66335d6-edbd-4914-eeee-9133c4b9e67d"
      },
      "execution_count": null,
      "outputs": [
        {
          "output_type": "stream",
          "name": "stderr",
          "text": [
            "<ipython-input-23-fbb32aa4a304>:3: UserWarning: To copy construct from a tensor, it is recommended to use sourceTensor.clone().detach() or sourceTensor.clone().detach().requires_grad_(True), rather than torch.tensor(sourceTensor).\n",
            "  self.X = torch.tensor(X, dtype=torch.float32)  # Convert to tensors\n"
          ]
        }
      ]
    },
    {
      "cell_type": "code",
      "source": [
        "import numpy as np\n",
        "\n",
        "X_imdb_train_bow = np.array(X_imdb_train_bow, dtype=np.float32)\n",
        "y_imdb_train_one_hot_bow = np.array(y_imdb_train_one_hot_bow, dtype=np.float32)\n",
        "X_imdb_val_bow = np.array(X_imdb_val_bow, dtype=np.float32)\n",
        "y_imdb_val_one_hot_bow = np.array(y_imdb_val_one_hot_bow, dtype=np.float32)\n"
      ],
      "metadata": {
        "id": "FBVj0L0VlhkV"
      },
      "execution_count": null,
      "outputs": []
    },
    {
      "cell_type": "code",
      "source": [
        "val_imdb_dataset = TextDataset(X_imdb_val_bow, y_imdb_val_one_hot_bow)\n",
        "val_imdb_loader = DataLoader(val_imdb_dataset, batch_size=32, shuffle=True)"
      ],
      "metadata": {
        "id": "Tf1izDDHvUeG"
      },
      "execution_count": null,
      "outputs": []
    },
    {
      "cell_type": "code",
      "source": [
        "# Load checkpoint and prepare for transfer learning\n",
        "print(\"\\nLoading checkpoint for transfer learning...\")\n",
        "checkpoint = torch.load('BOW_checkpoint.pth')\n",
        "model.load_state_dict(checkpoint['model_state_dict'])\n",
        "\n",
        "# Reset optimizer with lower learning rate\n",
        "optimizer = optim.Adam(model.parameters(), lr=transfer_lr)\n",
        "\n",
        "print(\"\\nFine-tuning on IMDB Dataset...\")\n",
        "history1_imdb = train_model(model, imdb_train_loader,val_imdb_loader, criterion,\n",
        "                                                optimizer, epochs, \"IMDB_BOW\")\n"
      ],
      "metadata": {
        "id": "Xd8hdzWPpBY3",
        "colab": {
          "base_uri": "https://localhost:8080/"
        },
        "outputId": "25ab8b9b-a0e8-4cd5-fa50-5c1480bba2de"
      },
      "execution_count": null,
      "outputs": [
        {
          "output_type": "stream",
          "name": "stdout",
          "text": [
            "\n",
            "Loading checkpoint for transfer learning...\n",
            "\n",
            "Fine-tuning on IMDB Dataset...\n",
            "IMDB_BOW - Epoch: 1/10, Batch: 0/1250, Loss: 135.7084, Accuracy: 43.75%\n",
            "IMDB_BOW - Epoch: 1/10, Batch: 100/1250, Loss: 26.1249, Accuracy: 49.81%\n",
            "IMDB_BOW - Epoch: 1/10, Batch: 200/1250, Loss: 9.1296, Accuracy: 52.01%\n",
            "IMDB_BOW - Epoch: 1/10, Batch: 300/1250, Loss: 4.5940, Accuracy: 53.45%\n",
            "IMDB_BOW - Epoch: 1/10, Batch: 400/1250, Loss: 1.7066, Accuracy: 55.71%\n",
            "IMDB_BOW - Epoch: 1/10, Batch: 500/1250, Loss: 1.2359, Accuracy: 57.14%\n",
            "IMDB_BOW - Epoch: 1/10, Batch: 600/1250, Loss: 0.5363, Accuracy: 57.87%\n",
            "IMDB_BOW - Epoch: 1/10, Batch: 700/1250, Loss: 0.6442, Accuracy: 58.73%\n",
            "IMDB_BOW - Epoch: 1/10, Batch: 800/1250, Loss: 0.6645, Accuracy: 59.59%\n",
            "IMDB_BOW - Epoch: 1/10, Batch: 900/1250, Loss: 0.6838, Accuracy: 60.20%\n",
            "IMDB_BOW - Epoch: 1/10, Batch: 1000/1250, Loss: 0.6392, Accuracy: 61.07%\n",
            "IMDB_BOW - Epoch: 1/10, Batch: 1100/1250, Loss: 1.0184, Accuracy: 62.01%\n",
            "IMDB_BOW - Epoch: 1/10, Batch: 1200/1250, Loss: 0.4496, Accuracy: 62.90%\n",
            "IMDB_BOW - Validation Loss: 0.4707, Accuracy: 82.95%\n",
            "IMDB_BOW checkpoint saved with val_accuracy: 82.9500\n",
            "IMDB_BOW - Epoch: 2/10, Batch: 0/1250, Loss: 0.4887, Accuracy: 87.50%\n",
            "IMDB_BOW - Epoch: 2/10, Batch: 100/1250, Loss: 0.3709, Accuracy: 83.97%\n",
            "IMDB_BOW - Epoch: 2/10, Batch: 200/1250, Loss: 0.4169, Accuracy: 84.67%\n",
            "IMDB_BOW - Epoch: 2/10, Batch: 300/1250, Loss: 0.2926, Accuracy: 85.55%\n",
            "IMDB_BOW - Epoch: 2/10, Batch: 400/1250, Loss: 0.2028, Accuracy: 86.25%\n",
            "IMDB_BOW - Epoch: 2/10, Batch: 500/1250, Loss: 0.2190, Accuracy: 86.54%\n",
            "IMDB_BOW - Epoch: 2/10, Batch: 600/1250, Loss: 0.5934, Accuracy: 86.93%\n",
            "IMDB_BOW - Epoch: 2/10, Batch: 700/1250, Loss: 0.2969, Accuracy: 87.17%\n",
            "IMDB_BOW - Epoch: 2/10, Batch: 800/1250, Loss: 0.2202, Accuracy: 87.49%\n",
            "IMDB_BOW - Epoch: 2/10, Batch: 900/1250, Loss: 0.2264, Accuracy: 87.63%\n",
            "IMDB_BOW - Epoch: 2/10, Batch: 1000/1250, Loss: 0.1898, Accuracy: 87.80%\n",
            "IMDB_BOW - Epoch: 2/10, Batch: 1100/1250, Loss: 0.1549, Accuracy: 87.97%\n",
            "IMDB_BOW - Epoch: 2/10, Batch: 1200/1250, Loss: 0.5838, Accuracy: 88.11%\n",
            "IMDB_BOW - Validation Loss: 0.2617, Accuracy: 89.73%\n",
            "IMDB_BOW checkpoint saved with val_accuracy: 89.7300\n",
            "IMDB_BOW - Epoch: 3/10, Batch: 0/1250, Loss: 0.0745, Accuracy: 100.00%\n",
            "IMDB_BOW - Epoch: 3/10, Batch: 100/1250, Loss: 0.3921, Accuracy: 92.64%\n",
            "IMDB_BOW - Epoch: 3/10, Batch: 200/1250, Loss: 0.1830, Accuracy: 92.86%\n",
            "IMDB_BOW - Epoch: 3/10, Batch: 300/1250, Loss: 0.1025, Accuracy: 92.51%\n",
            "IMDB_BOW - Epoch: 3/10, Batch: 400/1250, Loss: 0.1102, Accuracy: 92.55%\n",
            "IMDB_BOW - Epoch: 3/10, Batch: 500/1250, Loss: 0.3084, Accuracy: 92.64%\n",
            "IMDB_BOW - Epoch: 3/10, Batch: 600/1250, Loss: 0.1242, Accuracy: 92.50%\n",
            "IMDB_BOW - Epoch: 3/10, Batch: 700/1250, Loss: 0.1078, Accuracy: 92.29%\n",
            "IMDB_BOW - Epoch: 3/10, Batch: 800/1250, Loss: 0.2093, Accuracy: 92.22%\n",
            "IMDB_BOW - Epoch: 3/10, Batch: 900/1250, Loss: 0.2160, Accuracy: 92.15%\n",
            "IMDB_BOW - Epoch: 3/10, Batch: 1000/1250, Loss: 0.1561, Accuracy: 92.14%\n",
            "IMDB_BOW - Epoch: 3/10, Batch: 1100/1250, Loss: 0.4328, Accuracy: 92.04%\n",
            "IMDB_BOW - Epoch: 3/10, Batch: 1200/1250, Loss: 0.2275, Accuracy: 92.01%\n",
            "IMDB_BOW - Validation Loss: 0.2595, Accuracy: 89.54%\n",
            "IMDB_BOW - Epoch: 4/10, Batch: 0/1250, Loss: 0.1972, Accuracy: 93.75%\n",
            "IMDB_BOW - Epoch: 4/10, Batch: 100/1250, Loss: 0.1854, Accuracy: 95.27%\n",
            "IMDB_BOW - Epoch: 4/10, Batch: 200/1250, Loss: 0.1486, Accuracy: 94.75%\n",
            "IMDB_BOW - Epoch: 4/10, Batch: 300/1250, Loss: 0.1593, Accuracy: 94.96%\n",
            "IMDB_BOW - Epoch: 4/10, Batch: 400/1250, Loss: 0.0942, Accuracy: 95.02%\n",
            "IMDB_BOW - Epoch: 4/10, Batch: 500/1250, Loss: 0.1265, Accuracy: 94.90%\n",
            "IMDB_BOW - Epoch: 4/10, Batch: 600/1250, Loss: 0.3304, Accuracy: 94.77%\n",
            "IMDB_BOW - Epoch: 4/10, Batch: 700/1250, Loss: 0.2202, Accuracy: 94.65%\n",
            "IMDB_BOW - Epoch: 4/10, Batch: 800/1250, Loss: 0.2692, Accuracy: 94.46%\n",
            "IMDB_BOW - Epoch: 4/10, Batch: 900/1250, Loss: 0.0998, Accuracy: 94.36%\n",
            "IMDB_BOW - Epoch: 4/10, Batch: 1000/1250, Loss: 0.2516, Accuracy: 94.21%\n",
            "IMDB_BOW - Epoch: 4/10, Batch: 1100/1250, Loss: 0.1075, Accuracy: 94.11%\n",
            "IMDB_BOW - Epoch: 4/10, Batch: 1200/1250, Loss: 0.0438, Accuracy: 94.14%\n",
            "IMDB_BOW - Validation Loss: 0.2918, Accuracy: 88.90%\n",
            "IMDB_BOW - Epoch: 5/10, Batch: 0/1250, Loss: 0.0732, Accuracy: 96.88%\n",
            "IMDB_BOW - Epoch: 5/10, Batch: 100/1250, Loss: 0.0409, Accuracy: 97.49%\n",
            "IMDB_BOW - Epoch: 5/10, Batch: 200/1250, Loss: 0.0089, Accuracy: 97.28%\n",
            "IMDB_BOW - Epoch: 5/10, Batch: 300/1250, Loss: 0.0507, Accuracy: 97.13%\n",
            "IMDB_BOW - Epoch: 5/10, Batch: 400/1250, Loss: 0.1187, Accuracy: 97.14%\n",
            "IMDB_BOW - Epoch: 5/10, Batch: 500/1250, Loss: 0.0459, Accuracy: 96.90%\n",
            "IMDB_BOW - Epoch: 5/10, Batch: 600/1250, Loss: 0.1284, Accuracy: 96.81%\n",
            "IMDB_BOW - Epoch: 5/10, Batch: 700/1250, Loss: 0.0871, Accuracy: 96.82%\n",
            "IMDB_BOW - Epoch: 5/10, Batch: 800/1250, Loss: 0.1109, Accuracy: 96.79%\n",
            "IMDB_BOW - Epoch: 5/10, Batch: 900/1250, Loss: 0.0822, Accuracy: 96.69%\n",
            "IMDB_BOW - Epoch: 5/10, Batch: 1000/1250, Loss: 0.0304, Accuracy: 96.62%\n",
            "IMDB_BOW - Epoch: 5/10, Batch: 1100/1250, Loss: 0.0504, Accuracy: 96.59%\n",
            "IMDB_BOW - Epoch: 5/10, Batch: 1200/1250, Loss: 0.0550, Accuracy: 96.52%\n",
            "IMDB_BOW - Validation Loss: 0.3576, Accuracy: 88.37%\n",
            "IMDB_BOW - Epoch: 6/10, Batch: 0/1250, Loss: 0.0513, Accuracy: 96.88%\n",
            "IMDB_BOW - Epoch: 6/10, Batch: 100/1250, Loss: 0.0183, Accuracy: 99.13%\n",
            "IMDB_BOW - Epoch: 6/10, Batch: 200/1250, Loss: 0.0564, Accuracy: 98.94%\n",
            "IMDB_BOW - Epoch: 6/10, Batch: 300/1250, Loss: 0.0719, Accuracy: 98.77%\n",
            "IMDB_BOW - Epoch: 6/10, Batch: 400/1250, Loss: 0.0725, Accuracy: 98.82%\n",
            "IMDB_BOW - Epoch: 6/10, Batch: 500/1250, Loss: 0.0134, Accuracy: 98.83%\n",
            "IMDB_BOW - Epoch: 6/10, Batch: 600/1250, Loss: 0.2519, Accuracy: 98.73%\n",
            "IMDB_BOW - Epoch: 6/10, Batch: 700/1250, Loss: 0.0459, Accuracy: 98.59%\n",
            "IMDB_BOW - Epoch: 6/10, Batch: 800/1250, Loss: 0.0262, Accuracy: 98.53%\n",
            "IMDB_BOW - Epoch: 6/10, Batch: 900/1250, Loss: 0.0290, Accuracy: 98.55%\n",
            "IMDB_BOW - Epoch: 6/10, Batch: 1000/1250, Loss: 0.0135, Accuracy: 98.53%\n",
            "IMDB_BOW - Epoch: 6/10, Batch: 1100/1250, Loss: 0.0946, Accuracy: 98.55%\n",
            "IMDB_BOW - Epoch: 6/10, Batch: 1200/1250, Loss: 0.0137, Accuracy: 98.49%\n",
            "IMDB_BOW - Validation Loss: 0.4517, Accuracy: 88.13%\n",
            "IMDB_BOW - Epoch: 7/10, Batch: 0/1250, Loss: 0.0083, Accuracy: 100.00%\n",
            "IMDB_BOW - Epoch: 7/10, Batch: 100/1250, Loss: 0.0048, Accuracy: 99.60%\n",
            "IMDB_BOW - Epoch: 7/10, Batch: 200/1250, Loss: 0.0043, Accuracy: 99.56%\n",
            "IMDB_BOW - Epoch: 7/10, Batch: 300/1250, Loss: 0.0043, Accuracy: 99.55%\n",
            "IMDB_BOW - Epoch: 7/10, Batch: 400/1250, Loss: 0.0202, Accuracy: 99.59%\n",
            "IMDB_BOW - Epoch: 7/10, Batch: 500/1250, Loss: 0.0084, Accuracy: 99.58%\n",
            "IMDB_BOW - Epoch: 7/10, Batch: 600/1250, Loss: 0.0034, Accuracy: 99.57%\n",
            "IMDB_BOW - Epoch: 7/10, Batch: 700/1250, Loss: 0.0017, Accuracy: 99.57%\n",
            "IMDB_BOW - Epoch: 7/10, Batch: 800/1250, Loss: 0.0047, Accuracy: 99.54%\n",
            "IMDB_BOW - Epoch: 7/10, Batch: 900/1250, Loss: 0.0470, Accuracy: 99.53%\n",
            "IMDB_BOW - Epoch: 7/10, Batch: 1000/1250, Loss: 0.0592, Accuracy: 99.44%\n",
            "IMDB_BOW - Epoch: 7/10, Batch: 1100/1250, Loss: 0.0026, Accuracy: 99.44%\n",
            "IMDB_BOW - Epoch: 7/10, Batch: 1200/1250, Loss: 0.0036, Accuracy: 99.43%\n",
            "IMDB_BOW - Validation Loss: 0.5770, Accuracy: 88.02%\n",
            "IMDB_BOW - Epoch: 8/10, Batch: 0/1250, Loss: 0.0079, Accuracy: 100.00%\n",
            "IMDB_BOW - Epoch: 8/10, Batch: 100/1250, Loss: 0.0038, Accuracy: 99.97%\n",
            "IMDB_BOW - Epoch: 8/10, Batch: 200/1250, Loss: 0.0036, Accuracy: 99.94%\n",
            "IMDB_BOW - Epoch: 8/10, Batch: 300/1250, Loss: 0.0006, Accuracy: 99.92%\n",
            "IMDB_BOW - Epoch: 8/10, Batch: 400/1250, Loss: 0.0058, Accuracy: 99.88%\n",
            "IMDB_BOW - Epoch: 8/10, Batch: 500/1250, Loss: 0.0024, Accuracy: 99.89%\n",
            "IMDB_BOW - Epoch: 8/10, Batch: 600/1250, Loss: 0.0016, Accuracy: 99.88%\n",
            "IMDB_BOW - Epoch: 8/10, Batch: 700/1250, Loss: 0.0008, Accuracy: 99.89%\n",
            "IMDB_BOW - Epoch: 8/10, Batch: 800/1250, Loss: 0.0117, Accuracy: 99.89%\n",
            "IMDB_BOW - Epoch: 8/10, Batch: 900/1250, Loss: 0.0003, Accuracy: 99.88%\n",
            "IMDB_BOW - Epoch: 8/10, Batch: 1000/1250, Loss: 0.0008, Accuracy: 99.88%\n",
            "IMDB_BOW - Epoch: 8/10, Batch: 1100/1250, Loss: 0.0004, Accuracy: 99.87%\n",
            "IMDB_BOW - Epoch: 8/10, Batch: 1200/1250, Loss: 0.2712, Accuracy: 99.85%\n",
            "IMDB_BOW - Validation Loss: 0.7039, Accuracy: 87.04%\n",
            "IMDB_BOW - Epoch: 9/10, Batch: 0/1250, Loss: 0.0205, Accuracy: 100.00%\n",
            "IMDB_BOW - Epoch: 9/10, Batch: 100/1250, Loss: 0.0052, Accuracy: 99.78%\n",
            "IMDB_BOW - Epoch: 9/10, Batch: 200/1250, Loss: 0.0003, Accuracy: 99.88%\n",
            "IMDB_BOW - Epoch: 9/10, Batch: 300/1250, Loss: 0.0197, Accuracy: 99.82%\n",
            "IMDB_BOW - Epoch: 9/10, Batch: 400/1250, Loss: 0.0015, Accuracy: 99.78%\n",
            "IMDB_BOW - Epoch: 9/10, Batch: 500/1250, Loss: 0.1790, Accuracy: 99.59%\n",
            "IMDB_BOW - Epoch: 9/10, Batch: 600/1250, Loss: 0.0194, Accuracy: 99.57%\n",
            "IMDB_BOW - Epoch: 9/10, Batch: 700/1250, Loss: 0.0037, Accuracy: 99.60%\n",
            "IMDB_BOW - Epoch: 9/10, Batch: 800/1250, Loss: 0.0087, Accuracy: 99.61%\n",
            "IMDB_BOW - Epoch: 9/10, Batch: 900/1250, Loss: 0.0074, Accuracy: 99.62%\n",
            "IMDB_BOW - Epoch: 9/10, Batch: 1000/1250, Loss: 0.0015, Accuracy: 99.62%\n",
            "IMDB_BOW - Epoch: 9/10, Batch: 1100/1250, Loss: 0.0016, Accuracy: 99.59%\n",
            "IMDB_BOW - Epoch: 9/10, Batch: 1200/1250, Loss: 0.0007, Accuracy: 99.60%\n",
            "IMDB_BOW - Validation Loss: 0.7250, Accuracy: 87.01%\n",
            "IMDB_BOW - Epoch: 10/10, Batch: 0/1250, Loss: 0.0269, Accuracy: 96.88%\n",
            "IMDB_BOW - Epoch: 10/10, Batch: 100/1250, Loss: 0.0025, Accuracy: 99.69%\n",
            "IMDB_BOW - Epoch: 10/10, Batch: 200/1250, Loss: 0.0005, Accuracy: 99.83%\n",
            "IMDB_BOW - Epoch: 10/10, Batch: 300/1250, Loss: 0.0009, Accuracy: 99.87%\n",
            "IMDB_BOW - Epoch: 10/10, Batch: 400/1250, Loss: 0.0068, Accuracy: 99.89%\n",
            "IMDB_BOW - Epoch: 10/10, Batch: 500/1250, Loss: 0.0003, Accuracy: 99.91%\n",
            "IMDB_BOW - Epoch: 10/10, Batch: 600/1250, Loss: 0.0004, Accuracy: 99.92%\n",
            "IMDB_BOW - Epoch: 10/10, Batch: 700/1250, Loss: 0.0021, Accuracy: 99.93%\n",
            "IMDB_BOW - Epoch: 10/10, Batch: 800/1250, Loss: 0.0020, Accuracy: 99.92%\n",
            "IMDB_BOW - Epoch: 10/10, Batch: 900/1250, Loss: 0.0023, Accuracy: 99.93%\n",
            "IMDB_BOW - Epoch: 10/10, Batch: 1000/1250, Loss: 0.0001, Accuracy: 99.91%\n",
            "IMDB_BOW - Epoch: 10/10, Batch: 1100/1250, Loss: 0.0012, Accuracy: 99.90%\n",
            "IMDB_BOW - Epoch: 10/10, Batch: 1200/1250, Loss: 0.0041, Accuracy: 99.89%\n",
            "IMDB_BOW - Validation Loss: 0.6633, Accuracy: 87.89%\n"
          ]
        }
      ]
    },
    {
      "cell_type": "code",
      "source": [
        "# Save final model\n",
        "final_checkpoint = {\n",
        "    'model_state_dict': model.state_dict(),\n",
        "    'optimizer_state_dict': optimizer.state_dict(),\n",
        "    'hyperparameters': {\n",
        "        'input_size': input_size,\n",
        "        'hidden_size1': hidden_size1,\n",
        "        'hidden_size2': hidden_size2,\n",
        "        'hidden_size3': hidden_size3,\n",
        "        'hidden_size4': hidden_size4,\n",
        "        'output_size': output_size,\n",
        "    },\n",
        "    'training_history': {\n",
        "        'initial_task': 'Dataset1',\n",
        "        'transfer_task': 'IMDB',\n",
        "        'transfer_learning_rate': transfer_lr,\n",
        "\n",
        "    'Dataset1_performance': {\n",
        "        'final_train_loss': history1['train_losses'][-1],\n",
        "        'final_train_accuracy': history1['train_accuracies'][-1],\n",
        "        'final_val_loss': history1['val_losses'][-1],\n",
        "        'final_val_accuracy': history1['val_accuracies'][-1],\n",
        "    },\n",
        "\n",
        "    'IMDB_BOW_performance': {\n",
        "        'final_train_loss': history1_imdb['train_losses'][-1],\n",
        "        'final_train_accuracy': history1_imdb['train_accuracies'][-1],\n",
        "        'final_val_loss': history1_imdb['val_losses'][-1],\n",
        "        'final_val_accuracy': history1_imdb['val_accuracies'][-1],\n",
        "    }\n",
        "    }\n",
        "}\n",
        "torch.save(final_checkpoint, 'imdb_checkpoint_bow.pth')\n",
        "print(\"\\nTransfer learning complete! Final model saved.\")"
      ],
      "metadata": {
        "id": "9d0kuZu3qJ3l",
        "colab": {
          "base_uri": "https://localhost:8080/"
        },
        "outputId": "bc821ace-b4be-414b-8b12-7593f6caac15"
      },
      "execution_count": null,
      "outputs": [
        {
          "output_type": "stream",
          "name": "stdout",
          "text": [
            "\n",
            "Transfer learning complete! Final model saved.\n"
          ]
        }
      ]
    },
    {
      "cell_type": "code",
      "source": [
        "writer = SummaryWriter(\"runs/conf_matrix\")\n",
        "evaluate_final_model(model, val_imdb_loader, criterion, device, class_names, writer,\"BOW_IMDB\")\n",
        "\n",
        "writer.close()"
      ],
      "metadata": {
        "id": "Giw0ig0UQusW",
        "colab": {
          "base_uri": "https://localhost:8080/",
          "height": 487
        },
        "outputId": "b4dabf21-e5ac-424f-e1c2-a2fd07f9c3e4"
      },
      "execution_count": null,
      "outputs": [
        {
          "output_type": "display_data",
          "data": {
            "text/plain": [
              "<Figure size 600x500 with 2 Axes>"
            ],
            "image/png": "[encoded data removed]"
          },
          "metadata": {}
        }
      ]
    },
    {
      "cell_type": "code",
      "source": [
        "update_log('IMDB_BOW', history1_imdb)"
      ],
      "metadata": {
        "id": "HDsmxw3wVSJK"
      },
      "execution_count": null,
      "outputs": []
    },
    {
      "cell_type": "code",
      "source": [
        "plot_training_progress(history1, \"BOW\")"
      ],
      "metadata": {
        "id": "vahHa7nDQI-K",
        "colab": {
          "base_uri": "https://localhost:8080/",
          "height": 407
        },
        "outputId": "5fc24068-6343-4d6e-d78f-519b70e6a4e4"
      },
      "execution_count": null,
      "outputs": [
        {
          "output_type": "display_data",
          "data": {
            "text/plain": [
              "<Figure size 1200x400 with 2 Axes>"
            ],
            "image/png": "[encoded data removed]"
          },
          "metadata": {}
        }
      ]
    },
    {
      "cell_type": "code",
      "source": [
        "plot_training_progress(history1_imdb, \"IMDB_BOW\")"
      ],
      "metadata": {
        "id": "f9h_1rbBQNqk",
        "colab": {
          "base_uri": "https://localhost:8080/",
          "height": 407
        },
        "outputId": "f3f0e922-873e-4f6a-f35a-c787f900bfc8"
      },
      "execution_count": null,
      "outputs": [
        {
          "output_type": "display_data",
          "data": {
            "text/plain": [
              "<Figure size 1200x400 with 2 Axes>"
            ],
            "image/png": "[encoded data removed]"
          },
          "metadata": {}
        }
      ]
    },
    {
      "cell_type": "code",
      "source": [
        "class EmbeddingModel:\n",
        "    def __init__(self, model_name=\"bert-base-uncased\", batch_size=32, output_dim=10000):\n",
        "        self.tokenizer = AutoTokenizer.from_pretrained(model_name)\n",
        "        self.model = AutoModel.from_pretrained(model_name).to(device)\n",
        "        self.batch_size = batch_size\n",
        "        self.output_dim = output_dim\n",
        "\n",
        "        if not self.tokenizer.pad_token:\n",
        "            self.tokenizer.pad_token = \"[PAD]\"\n",
        "\n",
        "        self.embedding_size = self.model.config.hidden_size\n",
        "        self.projection = torch.nn.Linear(self.embedding_size, self.output_dim).to(device) # Projection layer\n",
        "        self.model_loaded = True\n",
        "\n",
        "    def get_embeddings(self, texts):\n",
        "        all_embeddings = []\n",
        "        for i in range(0, len(texts), self.batch_size):\n",
        "            batch_texts = texts[i : i + self.batch_size]\n",
        "            tokens = self.tokenizer(\n",
        "                batch_texts, padding=True, truncation=True, return_tensors=\"pt\"\n",
        "            ).to(device)\n",
        "\n",
        "            with torch.no_grad():\n",
        "                outputs = self.model(**tokens)\n",
        "\n",
        "            batch_embeddings = outputs.last_hidden_state[:, 0, :]\n",
        "            batch_embeddings = self.projection(batch_embeddings)  # Apply projection\n",
        "            all_embeddings.append(batch_embeddings.cpu())\n",
        "\n",
        "        return torch.cat(all_embeddings, dim=0)\n",
        "\n",
        "embedding_model = EmbeddingModel(batch_size=16, output_dim=10000)\n",
        "X_train_embed = embedding_model.get_embeddings(X_train[:500].tolist())\n",
        "X_val_embed = embedding_model.get_embeddings(X_val.tolist())\n"
      ],
      "metadata": {
        "id": "Qs0QrNRtvsRv",
        "colab": {
          "base_uri": "https://localhost:8080/",
          "height": 301,
          "referenced_widgets": [
            "34198b24654d4c82b4ac5106834633ab",
            "33704803a8ea4297b4f8d153bece2401",
            "0f37bd646f444eeb970d95111d3d32ed",
            "59fee7a9ba68489da97f865bfd020661",
            "7196dec312e644ee988ab0888010eb03",
            "23e5c328aaf041149f996da5d9b75c09",
            "2afd7824d33b4f86a4d94f90470877b1",
            "a427090cd4c44b13a3da176ae4a2db21",
            "9cf8cffafd95438787b3f3898c23c236",
            "21d48d96e9bd45ba99e956a68127b794",
            "0a3e9c268a904d9796af9f87d8c1fe94",
            "3aae3b9d138a40bb94ef4860707efdd7",
            "01d9dbba878c4c209bf532226d84fd2c",
            "a0644a851801419fbf3859c422c437d5",
            "58d21cbf06024a4da7d62a46be157ff4",
            "fd2b149066cf409f9522169f9eb123b3",
            "b915d9601dec4140805b01e1036dfdb5",
            "dcf6488dd2a945f981a8db82c4e3c29e",
            "fe2fd988b1e846ef8fa00e940b9bfcf8",
            "b4b72c6131bc4500941c074d0a2757c5",
            "31f6f99bcbe848b4a3a277aa2ee2b025",
            "15e7f534d02642a491ca0fafddadccf9",
            "2131f526909c44cebc8efcd211f4640e",
            "9f5eef634e854b1fb300ac98cbfc5902",
            "6b08b0fbc9f9482093c2a8e7e4109d37",
            "71e282facc8e4a448f7217fb00117644",
            "2fe7a16a04cb4f1ba23c647337595d2a",
            "cc34aad24a354946b9c4f1443ee45472",
            "5023cd71f1ba4b97bd4d73551239d632",
            "8e25db39570743ffb6189e8cae3dd434",
            "86a1e7334d6e427fb8061971c92e9764",
            "88b1ea0738a34890ab840dfb2090a9e3",
            "d37a643d63e74bfda46a537c4fbb6eac",
            "85b7a78a429443ff80b476d85e2568cb",
            "6cc9519bbc484d4589cfcff1c552a272",
            "f828a407573a4e94be8e76699fbee27e",
            "c551da843fbf4786a6c0b348343f2849",
            "78fc9279244244e494871ddf1c5643af",
            "a2f7fb7608bb4cc6937422c6b1ffe2f7",
            "746a4be174014da680f28ed112974b9a",
            "2e157b5b0d3b4ad58471dd28a3b5d186",
            "5e82c873b86e47c59261e82b4e404208",
            "600294bdc0cd44649dee8d93771b0856",
            "9703e5e38a574bd4a3707e5993f31a86",
            "e6a78a5c1ccc4fd3bbd9f8315070e6b7",
            "9796d707268543ea8588308f010bb6f5",
            "dabcb60af249422693853bfe8e581f44",
            "74bda8f332474e32b96edde6b953d958",
            "45343b74f6c146d192295255f708d36d",
            "466f00cf3d5341e896c84a534d8d455e",
            "97f32f6cfc084c98b3af5233764973cc",
            "1c204c859f2240aea0cae7f52fe1174d",
            "471f2e9750d54c7aaf49e83394bdc95d",
            "650938d210ab4b2184b6f289c4cfe970",
            "ba70b105269b4ac3bcc58a813cd35a15"
          ]
        },
        "outputId": "0bf0b632-84cb-48e4-9bd2-74694833d501"
      },
      "execution_count": null,
      "outputs": [
        {
          "output_type": "stream",
          "name": "stderr",
          "text": [
            "/usr/local/lib/python3.11/dist-packages/huggingface_hub/utils/_auth.py:94: UserWarning: \n",
            "The secret `HF_TOKEN` does not exist in your Colab secrets.\n",
            "To authenticate with the Hugging Face Hub, create a token in your settings tab (https://huggingface.co/settings/tokens), set it as secret in your Google Colab and restart your session.\n",
            "You will be able to reuse this secret in all of your notebooks.\n",
            "Please note that authentication is recommended but still optional to access public models or datasets.\n",
            "  warnings.warn(\n"
          ]
        },
        {
          "output_type": "display_data",
          "data": {
            "text/plain": [
              "tokenizer_config.json:   0%|          | 0.00/48.0 [00:00<?, ?B/s]"
            ],
            "application/vnd.jupyter.widget-view+json": {
              "version_major": 2,
              "version_minor": 0,
              "model_id": "34198b24654d4c82b4ac5106834633ab"
            }
          },
          "metadata": {}
        },
        {
          "output_type": "display_data",
          "data": {
            "text/plain": [
              "config.json:   0%|          | 0.00/570 [00:00<?, ?B/s]"
            ],
            "application/vnd.jupyter.widget-view+json": {
              "version_major": 2,
              "version_minor": 0,
              "model_id": "3aae3b9d138a40bb94ef4860707efdd7"
            }
          },
          "metadata": {}
        },
        {
          "output_type": "display_data",
          "data": {
            "text/plain": [
              "vocab.txt:   0%|          | 0.00/232k [00:00<?, ?B/s]"
            ],
            "application/vnd.jupyter.widget-view+json": {
              "version_major": 2,
              "version_minor": 0,
              "model_id": "2131f526909c44cebc8efcd211f4640e"
            }
          },
          "metadata": {}
        },
        {
          "output_type": "display_data",
          "data": {
            "text/plain": [
              "tokenizer.json:   0%|          | 0.00/466k [00:00<?, ?B/s]"
            ],
            "application/vnd.jupyter.widget-view+json": {
              "version_major": 2,
              "version_minor": 0,
              "model_id": "85b7a78a429443ff80b476d85e2568cb"
            }
          },
          "metadata": {}
        },
        {
          "output_type": "display_data",
          "data": {
            "text/plain": [
              "model.safetensors:   0%|          | 0.00/440M [00:00<?, ?B/s]"
            ],
            "application/vnd.jupyter.widget-view+json": {
              "version_major": 2,
              "version_minor": 0,
              "model_id": "e6a78a5c1ccc4fd3bbd9f8315070e6b7"
            }
          },
          "metadata": {}
        }
      ]
    },
    {
      "cell_type": "code",
      "source": [
        "# Initialize model and training components\n",
        "model2 = SimpleMLP(input_size, hidden_size1,hidden_size2,hidden_size3,hidden_size4, output_size).to(device)\n",
        "criterion = nn.CrossEntropyLoss()\n",
        "optimizer = optim.Adam(model.parameters(), lr=initial_lr)\n",
        "\n",
        "print(\"Model architecture:\")\n",
        "print(model2)"
      ],
      "metadata": {
        "id": "_jbV7D2NvsOI",
        "colab": {
          "base_uri": "https://localhost:8080/"
        },
        "outputId": "e5d50647-fe2a-42b7-aef7-ae7b8a0a3778"
      },
      "execution_count": null,
      "outputs": [
        {
          "output_type": "stream",
          "name": "stdout",
          "text": [
            "Model architecture:\n",
            "SimpleMLP(\n",
            "  (layer1): Linear(in_features=10000, out_features=512, bias=True)\n",
            "  (layer2): Linear(in_features=512, out_features=256, bias=True)\n",
            "  (layer3): Linear(in_features=256, out_features=128, bias=True)\n",
            "  (layer4): Linear(in_features=128, out_features=64, bias=True)\n",
            "  (layer5): Linear(in_features=64, out_features=2, bias=True)\n",
            "  (relu): ReLU()\n",
            "  (dropout): Dropout(p=0.3, inplace=False)\n",
            ")\n"
          ]
        }
      ]
    },
    {
      "cell_type": "code",
      "source": [
        "def count_trainable_params(model):\n",
        "    total_params = 0\n",
        "    print(\"Trainable Parameters per Layer:\")\n",
        "    for name, param in model.named_parameters():\n",
        "        if param.requires_grad:\n",
        "            param_count = param.numel()\n",
        "            total_params += param_count\n",
        "            print(f\"{name}: {param_count}\")\n",
        "\n",
        "    print(f\"\\nTotal Trainable Parameters: {total_params}\")\n",
        "\n",
        "# Call the function\n",
        "count_trainable_params(model)\n"
      ],
      "metadata": {
        "id": "B6ll3QzwR93c",
        "colab": {
          "base_uri": "https://localhost:8080/"
        },
        "outputId": "84dbfb20-cecf-4d9c-f610-09c030ae64a7"
      },
      "execution_count": null,
      "outputs": [
        {
          "output_type": "stream",
          "name": "stdout",
          "text": [
            "Trainable Parameters per Layer:\n",
            "layer1.weight: 5120000\n",
            "layer1.bias: 512\n",
            "layer2.weight: 131072\n",
            "layer2.bias: 256\n",
            "layer3.weight: 32768\n",
            "layer3.bias: 128\n",
            "layer4.weight: 8192\n",
            "layer4.bias: 64\n",
            "layer5.weight: 128\n",
            "layer5.bias: 2\n",
            "\n",
            "Total Trainable Parameters: 5293122\n"
          ]
        }
      ]
    },
    {
      "cell_type": "code",
      "source": [
        "y_train_one_hot_embed=y_train_one_hot_bow[:500]\n",
        "y_val_one_hot_embed=y_val_one_hot_bow"
      ],
      "metadata": {
        "id": "e9TXKVcdwYI0"
      },
      "execution_count": null,
      "outputs": []
    },
    {
      "cell_type": "code",
      "source": [
        "imdb_embed_train_dataset = TextDataset(X_train_embed, y_train_one_hot_embed)\n",
        "imdb_embed_train_loader = DataLoader(train_dataset, batch_size=64, shuffle=True)"
      ],
      "metadata": {
        "id": "OdiW9bS6xH5l",
        "colab": {
          "base_uri": "https://localhost:8080/"
        },
        "outputId": "edbf49a1-b7f1-4d8e-9869-2ab01dc3818d"
      },
      "execution_count": null,
      "outputs": [
        {
          "output_type": "stream",
          "name": "stderr",
          "text": [
            "<ipython-input-23-fbb32aa4a304>:3: UserWarning: To copy construct from a tensor, it is recommended to use sourceTensor.clone().detach() or sourceTensor.clone().detach().requires_grad_(True), rather than torch.tensor(sourceTensor).\n",
            "  self.X = torch.tensor(X, dtype=torch.float32)  # Convert to tensors\n"
          ]
        }
      ]
    },
    {
      "cell_type": "code",
      "source": [
        "imdb_embed_val_dataset = TextDataset(X_val_embed, y_val_one_hot_embed)\n",
        "imdb_embed_val_loader = DataLoader(val_dataset, batch_size=64, shuffle=True)"
      ],
      "metadata": {
        "id": "wmCijc1Xxydd",
        "colab": {
          "base_uri": "https://localhost:8080/"
        },
        "outputId": "4c93f33d-ee39-4de8-a876-5d9c0ca70714"
      },
      "execution_count": null,
      "outputs": [
        {
          "output_type": "stream",
          "name": "stderr",
          "text": [
            "<ipython-input-23-fbb32aa4a304>:3: UserWarning: To copy construct from a tensor, it is recommended to use sourceTensor.clone().detach() or sourceTensor.clone().detach().requires_grad_(True), rather than torch.tensor(sourceTensor).\n",
            "  self.X = torch.tensor(X, dtype=torch.float32)  # Convert to tensors\n"
          ]
        }
      ]
    },
    {
      "cell_type": "code",
      "source": [
        "history2 = train_model(model, imdb_embed_train_loader,imdb_embed_val_loader, criterion, optimizer, epochs, \"BERT_EMBED\")"
      ],
      "metadata": {
        "id": "6IPbZ1REwexk",
        "colab": {
          "base_uri": "https://localhost:8080/"
        },
        "outputId": "71717541-f05f-43dc-c5a8-6e7a31036df4"
      },
      "execution_count": null,
      "outputs": [
        {
          "output_type": "stream",
          "name": "stdout",
          "text": [
            "BERT_EMBED - Epoch: 1/10, Batch: 0/109, Loss: 0.1018, Accuracy: 95.31%\n",
            "BERT_EMBED - Epoch: 1/10, Batch: 100/109, Loss: 0.0000, Accuracy: 99.88%\n",
            "BERT_EMBED - Validation Loss: 0.0001, Accuracy: 100.00%\n",
            "BERT_EMBED checkpoint saved with val_accuracy: 100.0000\n",
            "BERT_EMBED - Epoch: 2/10, Batch: 0/109, Loss: 0.0000, Accuracy: 100.00%\n",
            "BERT_EMBED - Epoch: 2/10, Batch: 100/109, Loss: 0.0000, Accuracy: 100.00%\n",
            "BERT_EMBED - Validation Loss: 0.0000, Accuracy: 100.00%\n",
            "BERT_EMBED - Epoch: 3/10, Batch: 0/109, Loss: 0.0000, Accuracy: 100.00%\n",
            "BERT_EMBED - Epoch: 3/10, Batch: 100/109, Loss: 0.0000, Accuracy: 100.00%\n",
            "BERT_EMBED - Validation Loss: 0.0000, Accuracy: 100.00%\n",
            "BERT_EMBED - Epoch: 4/10, Batch: 0/109, Loss: 0.0000, Accuracy: 100.00%\n",
            "BERT_EMBED - Epoch: 4/10, Batch: 100/109, Loss: 0.0000, Accuracy: 100.00%\n",
            "BERT_EMBED - Validation Loss: 0.0000, Accuracy: 100.00%\n",
            "BERT_EMBED - Epoch: 5/10, Batch: 0/109, Loss: -0.0000, Accuracy: 100.00%\n",
            "BERT_EMBED - Epoch: 5/10, Batch: 100/109, Loss: 0.0000, Accuracy: 100.00%\n",
            "BERT_EMBED - Validation Loss: 0.0000, Accuracy: 100.00%\n",
            "BERT_EMBED - Epoch: 6/10, Batch: 0/109, Loss: 0.0000, Accuracy: 100.00%\n",
            "BERT_EMBED - Epoch: 6/10, Batch: 100/109, Loss: -0.0000, Accuracy: 100.00%\n",
            "BERT_EMBED - Validation Loss: 0.0000, Accuracy: 100.00%\n",
            "BERT_EMBED - Epoch: 7/10, Batch: 0/109, Loss: 0.0000, Accuracy: 100.00%\n",
            "BERT_EMBED - Epoch: 7/10, Batch: 100/109, Loss: 0.0000, Accuracy: 100.00%\n",
            "BERT_EMBED - Validation Loss: 0.0000, Accuracy: 100.00%\n",
            "BERT_EMBED - Epoch: 8/10, Batch: 0/109, Loss: 0.0000, Accuracy: 100.00%\n",
            "BERT_EMBED - Epoch: 8/10, Batch: 100/109, Loss: -0.0000, Accuracy: 100.00%\n",
            "BERT_EMBED - Validation Loss: 0.0000, Accuracy: 100.00%\n",
            "BERT_EMBED - Epoch: 9/10, Batch: 0/109, Loss: -0.0000, Accuracy: 100.00%\n",
            "BERT_EMBED - Epoch: 9/10, Batch: 100/109, Loss: -0.0000, Accuracy: 100.00%\n",
            "BERT_EMBED - Validation Loss: 0.0000, Accuracy: 100.00%\n",
            "BERT_EMBED - Epoch: 10/10, Batch: 0/109, Loss: 0.0000, Accuracy: 100.00%\n",
            "BERT_EMBED - Epoch: 10/10, Batch: 100/109, Loss: 0.0000, Accuracy: 100.00%\n",
            "BERT_EMBED - Validation Loss: 0.0000, Accuracy: 100.00%\n"
          ]
        }
      ]
    },
    {
      "cell_type": "code",
      "source": [
        "X_test_embed = embedding_model.get_embeddings(df_test[\"review\"].tolist())"
      ],
      "metadata": {
        "id": "zHM3G-jX9E0h"
      },
      "execution_count": null,
      "outputs": []
    },
    {
      "cell_type": "code",
      "source": [
        "y_test_one_hot_embed=to_categorical(df_test[\"sentiment\"], num_classes=2)\n",
        "embed_test_dataset = TextDataset(X_test_embed, y_test_one_hot_embed)\n",
        "embed_test_loader = DataLoader(embed_test_dataset, batch_size=32, shuffle=True)"
      ],
      "metadata": {
        "id": "opUcTk0f89nT",
        "colab": {
          "base_uri": "https://localhost:8080/"
        },
        "outputId": "27ac0b07-d7ba-46dd-e699-a47fc2da8a61"
      },
      "execution_count": null,
      "outputs": [
        {
          "output_type": "stream",
          "name": "stderr",
          "text": [
            "<ipython-input-23-fbb32aa4a304>:3: UserWarning: To copy construct from a tensor, it is recommended to use sourceTensor.clone().detach() or sourceTensor.clone().detach().requires_grad_(True), rather than torch.tensor(sourceTensor).\n",
            "  self.X = torch.tensor(X, dtype=torch.float32)  # Convert to tensors\n"
          ]
        }
      ]
    },
    {
      "cell_type": "code",
      "source": [
        "class_names = [\"Negative\", \"Positive\"]  # Adjust according to dataset\n",
        "\n",
        "writer = SummaryWriter(\"runs/conf_matrix\")\n",
        "evaluate_final_model(model2, embed_test_loader, criterion, device, class_names, writer,\"BERT_EMBED\")\n",
        "\n",
        "writer.close()"
      ],
      "metadata": {
        "id": "rBRCj5YR81ps",
        "colab": {
          "base_uri": "https://localhost:8080/",
          "height": 487
        },
        "outputId": "28f5d6e5-39b2-4196-c335-f940dfda4bc7"
      },
      "execution_count": null,
      "outputs": [
        {
          "output_type": "display_data",
          "data": {
            "text/plain": [
              "<Figure size 600x500 with 2 Axes>"
            ],
            "image/png": "[encoded data removed]"
          },
          "metadata": {}
        }
      ]
    },
    {
      "cell_type": "code",
      "source": [
        "plot_training_progress(history2, \"BERT_EMBED\")"
      ],
      "metadata": {
        "id": "KcKxt0GsT2ND",
        "colab": {
          "base_uri": "https://localhost:8080/",
          "height": 407
        },
        "outputId": "2119551a-6d49-4c4b-a7c9-2076460d8463"
      },
      "execution_count": null,
      "outputs": [
        {
          "output_type": "display_data",
          "data": {
            "text/plain": [
              "<Figure size 1200x400 with 2 Axes>"
            ],
            "image/png": "[encoded data removed]"
          },
          "metadata": {}
        }
      ]
    },
    {
      "cell_type": "code",
      "source": [
        "# Save MNIST checkpoint\n",
        "checkpoint2 = {\n",
        "    'model_state_dict': model.state_dict(),\n",
        "    'optimizer_state_dict': optimizer.state_dict(),\n",
        "    'hyperparameters': {\n",
        "        'input_size': input_size,\n",
        "        'hidden_size1': hidden_size1,\n",
        "        'hidden_size2': hidden_size2,\n",
        "        'hidden_size3': hidden_size3,\n",
        "        'hidden_size4': hidden_size4,\n",
        "        'output_size': output_size,\n",
        "    },\n",
        "    'Dataset2_performance': {\n",
        "        'final_train_loss': history2['train_losses'][-1],\n",
        "        'final_train_accuracy': history2['train_accuracies'][-1],\n",
        "        'final_val_loss': history2['val_losses'][-1],\n",
        "        'final_val_accuracy': history2['val_accuracies'][-1],\n",
        "\n",
        "    },\n",
        "}\n",
        "torch.save(checkpoint2, 'BERT_EMBED_checkpoint.pth')\n",
        "print(\"BERT_EMBED checkpoint saved!\")\n"
      ],
      "metadata": {
        "id": "Bbd31i1ZvsF7",
        "colab": {
          "base_uri": "https://localhost:8080/"
        },
        "outputId": "366f9a5d-741e-4c14-8806-3af4b6d3fbe7"
      },
      "execution_count": null,
      "outputs": [
        {
          "output_type": "stream",
          "name": "stdout",
          "text": [
            "BERT_EMBED checkpoint saved!\n"
          ]
        }
      ]
    },
    {
      "cell_type": "code",
      "source": [
        "update_log('BERT_EMBED', history2)"
      ],
      "metadata": {
        "id": "AH9O2UbfVXPr"
      },
      "execution_count": null,
      "outputs": []
    },
    {
      "cell_type": "code",
      "source": [
        "embedding_model = EmbeddingModel(batch_size=16, output_dim=10000)\n",
        "X_imdb_embed = embedding_model.get_embeddings(np.array(df_imdb[\"review\"][:500]).tolist())"
      ],
      "metadata": {
        "id": "bgxSjJSGvsDA"
      },
      "execution_count": null,
      "outputs": []
    },
    {
      "cell_type": "code",
      "source": [
        "labels = df_imdb[\"sentiment\"].map({\"positive\": 1, \"negative\": 0}).tolist()\n",
        "from tensorflow.keras.utils import to_categorical\n",
        "\n",
        "y_train_one_hot_imdb = to_categorical(labels, num_classes=2)\n"
      ],
      "metadata": {
        "id": "weyVJA5mvr_-"
      },
      "execution_count": null,
      "outputs": []
    },
    {
      "cell_type": "code",
      "source": [
        "X_imdb_embed.shape"
      ],
      "metadata": {
        "id": "qv37suwFRgF1",
        "colab": {
          "base_uri": "https://localhost:8080/"
        },
        "outputId": "56b6b995-b4a4-4c5c-872e-4fcaa2d388d6"
      },
      "execution_count": null,
      "outputs": [
        {
          "output_type": "execute_result",
          "data": {
            "text/plain": [
              "torch.Size([500, 10000])"
            ]
          },
          "metadata": {},
          "execution_count": 61
        }
      ]
    },
    {
      "cell_type": "code",
      "source": [
        "y_train_one_hot_imdb.shape"
      ],
      "metadata": {
        "id": "4LRjHz2MRjQo",
        "colab": {
          "base_uri": "https://localhost:8080/"
        },
        "outputId": "a53d4baa-b4d7-413d-e852-47642bc182b2"
      },
      "execution_count": null,
      "outputs": [
        {
          "output_type": "execute_result",
          "data": {
            "text/plain": [
              "(50000, 2)"
            ]
          },
          "metadata": {},
          "execution_count": 62
        }
      ]
    },
    {
      "cell_type": "code",
      "source": [
        "X_imdb_train_embed,X_imdb_val_embed,y_imdb_train_one_hot_embed,y_imdb_val_one_hot_embed=train_test_split(X_imdb_embed,y_train_one_hot_imdb[:500],test_size=0.2,random_state=42)"
      ],
      "metadata": {
        "id": "I21CsbfcyqZG"
      },
      "execution_count": null,
      "outputs": []
    },
    {
      "cell_type": "code",
      "source": [
        "imdb_train_dataset = TextDataset(X_imdb_train_embed, y_imdb_train_one_hot_embed)\n",
        "imdb_loader = DataLoader(imdb_train_dataset, batch_size=32, shuffle=True)"
      ],
      "metadata": {
        "id": "qIsoCK86yqVu",
        "colab": {
          "base_uri": "https://localhost:8080/"
        },
        "outputId": "dfc45d74-2d1f-457b-ddc9-12c08a497ff7"
      },
      "execution_count": null,
      "outputs": [
        {
          "output_type": "stream",
          "name": "stderr",
          "text": [
            "<ipython-input-23-fbb32aa4a304>:3: UserWarning: To copy construct from a tensor, it is recommended to use sourceTensor.clone().detach() or sourceTensor.clone().detach().requires_grad_(True), rather than torch.tensor(sourceTensor).\n",
            "  self.X = torch.tensor(X, dtype=torch.float32)  # Convert to tensors\n"
          ]
        }
      ]
    },
    {
      "cell_type": "code",
      "source": [
        "val_dataset = TextDataset(X_imdb_val_embed, y_imdb_val_one_hot_embed)\n",
        "val_loader = DataLoader(val_dataset, batch_size=32, shuffle=True)"
      ],
      "metadata": {
        "id": "X53v41OvyvlX",
        "colab": {
          "base_uri": "https://localhost:8080/"
        },
        "outputId": "5866c014-5b9a-4433-d11a-d9ae02e29069"
      },
      "execution_count": null,
      "outputs": [
        {
          "output_type": "stream",
          "name": "stderr",
          "text": [
            "<ipython-input-23-fbb32aa4a304>:3: UserWarning: To copy construct from a tensor, it is recommended to use sourceTensor.clone().detach() or sourceTensor.clone().detach().requires_grad_(True), rather than torch.tensor(sourceTensor).\n",
            "  self.X = torch.tensor(X, dtype=torch.float32)  # Convert to tensors\n"
          ]
        }
      ]
    },
    {
      "cell_type": "code",
      "source": [
        "print(\"\\nLoading checkpoint for transfer learning...\")\n",
        "checkpoint = torch.load('BERT_EMBED_checkpoint.pth')\n",
        "model.load_state_dict(checkpoint['model_state_dict'])\n",
        "\n",
        "# Reset optimizer with lower learning rate\n",
        "optimizer = optim.Adam(model.parameters(), lr=transfer_lr)\n",
        "\n",
        "print(\"\\nFine-tuning on IMDB Dataset...\")\n",
        "history2_imdb = train_model(model, imdb_loader,val_loader, criterion,\n",
        "                                                optimizer, epochs, \"IMDB_EMBED\")\n"
      ],
      "metadata": {
        "id": "q1em4aZgyqSk",
        "colab": {
          "base_uri": "https://localhost:8080/"
        },
        "outputId": "8c528ca3-db69-4313-c898-c59b4ca76576"
      },
      "execution_count": null,
      "outputs": [
        {
          "output_type": "stream",
          "name": "stdout",
          "text": [
            "\n",
            "Loading checkpoint for transfer learning...\n",
            "\n",
            "Fine-tuning on IMDB Dataset...\n",
            "IMDB_EMBED - Epoch: 1/10, Batch: 0/13, Loss: 104.2808, Accuracy: 50.00%\n",
            "IMDB_EMBED - Validation Loss: 0.7445, Accuracy: 60.00%\n",
            "IMDB_EMBED checkpoint saved with val_accuracy: 60.0000\n",
            "IMDB_EMBED - Epoch: 2/10, Batch: 0/13, Loss: 1.0342, Accuracy: 59.38%\n",
            "IMDB_EMBED - Validation Loss: 0.5221, Accuracy: 71.00%\n",
            "IMDB_EMBED checkpoint saved with val_accuracy: 71.0000\n",
            "IMDB_EMBED - Epoch: 3/10, Batch: 0/13, Loss: 0.6471, Accuracy: 59.38%\n",
            "IMDB_EMBED - Validation Loss: 0.4910, Accuracy: 76.00%\n",
            "IMDB_EMBED checkpoint saved with val_accuracy: 76.0000\n",
            "IMDB_EMBED - Epoch: 4/10, Batch: 0/13, Loss: 0.4787, Accuracy: 75.00%\n",
            "IMDB_EMBED - Validation Loss: 0.4769, Accuracy: 72.00%\n",
            "IMDB_EMBED - Epoch: 5/10, Batch: 0/13, Loss: 0.3995, Accuracy: 75.00%\n",
            "IMDB_EMBED - Validation Loss: 0.4036, Accuracy: 75.00%\n",
            "IMDB_EMBED - Epoch: 6/10, Batch: 0/13, Loss: 0.3843, Accuracy: 84.38%\n",
            "IMDB_EMBED - Validation Loss: 0.4791, Accuracy: 74.00%\n",
            "IMDB_EMBED - Epoch: 7/10, Batch: 0/13, Loss: 0.3963, Accuracy: 78.12%\n",
            "IMDB_EMBED - Validation Loss: 0.3728, Accuracy: 82.00%\n",
            "IMDB_EMBED checkpoint saved with val_accuracy: 82.0000\n",
            "IMDB_EMBED - Epoch: 8/10, Batch: 0/13, Loss: 0.3825, Accuracy: 84.38%\n",
            "IMDB_EMBED - Validation Loss: 0.4247, Accuracy: 82.00%\n",
            "IMDB_EMBED - Epoch: 9/10, Batch: 0/13, Loss: 0.2541, Accuracy: 90.62%\n",
            "IMDB_EMBED - Validation Loss: 0.4196, Accuracy: 81.00%\n",
            "IMDB_EMBED - Epoch: 10/10, Batch: 0/13, Loss: 0.1812, Accuracy: 90.62%\n",
            "IMDB_EMBED - Validation Loss: 0.4653, Accuracy: 78.00%\n"
          ]
        }
      ]
    },
    {
      "cell_type": "code",
      "source": [
        "plot_training_progress(history2_imdb, \"IMDB_BERT_EMBED\")\n"
      ],
      "metadata": {
        "id": "77vUklhiT5ir",
        "colab": {
          "base_uri": "https://localhost:8080/",
          "height": 407
        },
        "outputId": "97876095-5256-47c3-f5b4-df381562c758"
      },
      "execution_count": null,
      "outputs": [
        {
          "output_type": "display_data",
          "data": {
            "text/plain": [
              "<Figure size 1200x400 with 2 Axes>"
            ],
            "image/png": "[encoded data removed]"
          },
          "metadata": {}
        }
      ]
    },
    {
      "cell_type": "code",
      "source": [
        "# Save final model\n",
        "final_checkpoint = {\n",
        "    'model_state_dict': model.state_dict(),\n",
        "    'optimizer_state_dict': optimizer.state_dict(),\n",
        "    'hyperparameters': {\n",
        "        'input_size': input_size,\n",
        "        'hidden_size1': hidden_size1,\n",
        "        'hidden_size2': hidden_size2,\n",
        "        'hidden_size3': hidden_size3,\n",
        "        'hidden_size4': hidden_size4,\n",
        "        'output_size': output_size,\n",
        "    },\n",
        "    'training_history': {\n",
        "        'initial_task': 'Dataset2',\n",
        "        'transfer_task': 'IMDB',\n",
        "        'transfer_learning_rate': transfer_lr,\n",
        "   'Dataset1_performance': {\n",
        "        'final_train_loss': history2['train_losses'][-1],\n",
        "        'final_train_accuracy': history2['train_accuracies'][-1],\n",
        "        'final_val_loss': history2['val_losses'][-1],\n",
        "        'final_val_accuracy': history2['val_accuracies'][-1],\n",
        "\n",
        "    },\n",
        "\n",
        "    'IMDB_BOW_performance': {\n",
        "        'final_train_loss': history2_imdb['train_losses'][-1],\n",
        "        'final_train_accuracy': history2_imdb['train_accuracies'][-1],\n",
        "        'final_val_loss': history2_imdb['val_losses'][-1],\n",
        "        'final_val_accuracy': history2_imdb['val_accuracies'][-1],\n",
        "\n",
        "    }\n",
        "    }\n",
        "}\n",
        "torch.save(final_checkpoint, 'imdb_bert_embed.pth')\n",
        "print(\"\\nTransfer learning complete! Final model saved.\")"
      ],
      "metadata": {
        "id": "Of_2cgZmyvh0",
        "colab": {
          "base_uri": "https://localhost:8080/"
        },
        "outputId": "b92563bd-9330-4666-98a7-f5d019f6734d"
      },
      "execution_count": null,
      "outputs": [
        {
          "output_type": "stream",
          "name": "stdout",
          "text": [
            "\n",
            "Transfer learning complete! Final model saved.\n"
          ]
        }
      ]
    },
    {
      "cell_type": "code",
      "source": [
        "update_log('IMDB_Dataset2', history2_imdb)"
      ],
      "metadata": {
        "id": "rWZwH5C3UlnV"
      },
      "execution_count": null,
      "outputs": []
    },
    {
      "cell_type": "code",
      "source": [
        "class_names = [\"Negative\", \"Positive\"]  # Adjust according to dataset\n",
        "\n",
        "writer = SummaryWriter(\"runs/conf_matrix\")\n",
        "evaluate_final_model(model2, val_loader, criterion, device, class_names, writer,\"BERT_EMBED_IMDB\")\n",
        "\n",
        "writer.close()"
      ],
      "metadata": {
        "id": "HbpkKmxQxWow",
        "colab": {
          "base_uri": "https://localhost:8080/",
          "height": 487
        },
        "outputId": "714676ae-f375-4b5c-d112-f8f03e4cb81c"
      },
      "execution_count": null,
      "outputs": [
        {
          "output_type": "display_data",
          "data": {
            "text/plain": [
              "<Figure size 600x500 with 2 Axes>"
            ],
            "image/png": "[encoded data removed]"
          },
          "metadata": {}
        }
      ]
    },
    {
      "cell_type": "code",
      "source": [
        "# Function to log model parameters\n",
        "def log_model_parameters(model):\n",
        "    for name, param in model.named_parameters():\n",
        "        if param.requires_grad:\n",
        "            print(f\"{name}: {param.shape}\")\n",
        "log_model_parameters(model)\n"
      ],
      "metadata": {
        "id": "dpwyyrEyyvfG",
        "colab": {
          "base_uri": "https://localhost:8080/"
        },
        "outputId": "9ac74d30-9ff6-4912-c949-2847f88a75e1"
      },
      "execution_count": null,
      "outputs": [
        {
          "output_type": "stream",
          "name": "stdout",
          "text": [
            "layer1.weight: torch.Size([512, 10000])\n",
            "layer1.bias: torch.Size([512])\n",
            "layer2.weight: torch.Size([256, 512])\n",
            "layer2.bias: torch.Size([256])\n",
            "layer3.weight: torch.Size([128, 256])\n",
            "layer3.bias: torch.Size([128])\n",
            "layer4.weight: torch.Size([64, 128])\n",
            "layer4.bias: torch.Size([64])\n",
            "layer5.weight: torch.Size([2, 64])\n",
            "layer5.bias: torch.Size([2])\n"
          ]
        }
      ]
    },
    {
      "cell_type": "code",
      "source": [
        "log_model_parameters(model2)\n"
      ],
      "metadata": {
        "id": "5FFw9BDjyvcK",
        "colab": {
          "base_uri": "https://localhost:8080/"
        },
        "outputId": "8b2109b9-297c-47f5-8427-68d202d8d9f8"
      },
      "execution_count": null,
      "outputs": [
        {
          "output_type": "stream",
          "name": "stdout",
          "text": [
            "layer1.weight: torch.Size([512, 10000])\n",
            "layer1.bias: torch.Size([512])\n",
            "layer2.weight: torch.Size([256, 512])\n",
            "layer2.bias: torch.Size([256])\n",
            "layer3.weight: torch.Size([128, 256])\n",
            "layer3.bias: torch.Size([128])\n",
            "layer4.weight: torch.Size([64, 128])\n",
            "layer4.bias: torch.Size([64])\n",
            "layer5.weight: torch.Size([2, 64])\n",
            "layer5.bias: torch.Size([2])\n"
          ]
        }
      ]
    },
    {
      "cell_type": "code",
      "source": [
        "print(\"Model Hyperparameters:\")\n",
        "for key, value in hyperparameters.items():\n",
        "    print(f\"{key}: {value}\")\n"
      ],
      "metadata": {
        "id": "eu5rSi1WyqPh",
        "colab": {
          "base_uri": "https://localhost:8080/"
        },
        "outputId": "31588cf7-ea4c-4097-8a4e-846c8361aeb6"
      },
      "execution_count": null,
      "outputs": [
        {
          "output_type": "stream",
          "name": "stdout",
          "text": [
            "Model Hyperparameters:\n",
            "input_size: 10000\n",
            "hidden_size1: 512\n",
            "hidden_size2: 256\n",
            "hidden_size3: 128\n",
            "hidden_size4: 64\n",
            "output_size: 2\n",
            "batch_size: 64\n",
            "initial_lr: 0.001\n",
            "transfer_lr: 0.0001\n",
            "epochs: 10\n"
          ]
        }
      ]
    },
    {
      "cell_type": "markdown",
      "source": [
        "Tensorboard Integration"
      ],
      "metadata": {
        "id": "Gdh_6BMSW01p"
      }
    },
    {
      "cell_type": "code",
      "source": [
        "%load_ext tensorboard\n"
      ],
      "metadata": {
        "id": "ReGjZYYJschL"
      },
      "execution_count": null,
      "outputs": []
    },
    {
      "cell_type": "code",
      "source": [
        "%tensorboard --logdir runs\n"
      ],
      "metadata": {
        "id": "xOWJ4hWrgm48"
      },
      "execution_count": null,
      "outputs": []
    },
    {
      "cell_type": "markdown",
      "source": [
        "Model architecture."
      ],
      "metadata": {
        "id": "mxfPzefCSucW"
      }
    },
    {
      "cell_type": "markdown",
      "source": [
        "![image.png](data:image/png;base64,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)"
      ],
      "metadata": {
        "id": "I6BTqbIrS9M4"
      }
    },
    {
      "cell_type": "markdown",
      "source": [
        "Hyperparameters"
      ],
      "metadata": {
        "id": "wl4uHkc3TEQn"
      }
    },
    {
      "cell_type": "markdown",
      "source": [
        "![image.png](data:image/png;base64,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)"
      ],
      "metadata": {
        "id": "TTdiBfYMTHj2"
      }
    },
    {
      "cell_type": "markdown",
      "source": [
        "Logged metrics."
      ],
      "metadata": {
        "id": "adB5ec1iT9rB"
      }
    },
    {
      "cell_type": "code",
      "source": [
        "import json\n",
        "from tabulate import tabulate\n",
        "\n",
        "file_path = \"/content/logged_metrics.json\"\n",
        "\n",
        "with open(file_path, \"r\") as file:\n",
        "    data = json.load(file)\n",
        "\n",
        "# Print as table\n",
        "for dataset, metrics in data.items():\n",
        "    print(f\"\\nDataset: {dataset}\\n\")\n",
        "    keys = list(metrics.keys())\n",
        "    headers = [\"Epoch\"] + keys\n",
        "\n",
        "    table = []\n",
        "    for i in range(len(metrics[keys[0]])):\n",
        "        row = [i + 1] + [metrics[key][i] for key in keys]\n",
        "        table.append(row)\n",
        "\n",
        "    print(tabulate(table, headers=headers, tablefmt=\"grid\"))\n"
      ],
      "metadata": {
        "id": "VmA3VvbrUb2E",
        "colab": {
          "base_uri": "https://localhost:8080/"
        },
        "outputId": "ed87cedc-70fa-46da-a52a-5f2eb50d16b2"
      },
      "execution_count": null,
      "outputs": [
        {
          "output_type": "stream",
          "name": "stdout",
          "text": [
            "\n",
            "Dataset: BOW\n",
            "\n",
            "+---------+-------------------+-----------------------+---------------------+-------------------------+\n",
            "|   Epoch |   Training Losses |   Training Accuracies |   Validation Losses |   Validation Accuracies |\n",
            "+=========+===================+=======================+=====================+=========================+\n",
            "|       1 |       0.564583    |               69.5809 |         0.234402    |                 92.1965 |\n",
            "+---------+-------------------+-----------------------+---------------------+-------------------------+\n",
            "|       2 |       0.240882    |               90.1879 |         0.056398    |                 98.9162 |\n",
            "+---------+-------------------+-----------------------+---------------------+-------------------------+\n",
            "|       3 |       0.0444527   |               98.4827 |         0.00831424  |                 99.8555 |\n",
            "+---------+-------------------+-----------------------+---------------------+-------------------------+\n",
            "|       4 |       0.0100949   |               99.7399 |         0.00498794  |                 99.7832 |\n",
            "+---------+-------------------+-----------------------+---------------------+-------------------------+\n",
            "|       5 |       0.00698722  |               99.7543 |         0.00181025  |                 99.9277 |\n",
            "+---------+-------------------+-----------------------+---------------------+-------------------------+\n",
            "|       6 |       0.00273912  |               99.9133 |         0.000133167 |                100      |\n",
            "+---------+-------------------+-----------------------+---------------------+-------------------------+\n",
            "|       7 |       0.000142696 |              100      |         2.23091e-05 |                100      |\n",
            "+---------+-------------------+-----------------------+---------------------+-------------------------+\n",
            "|       8 |       1.87545e-05 |              100      |         7.66851e-06 |                100      |\n",
            "+---------+-------------------+-----------------------+---------------------+-------------------------+\n",
            "|       9 |       6.52361e-06 |              100      |         4.14546e-06 |                100      |\n",
            "+---------+-------------------+-----------------------+---------------------+-------------------------+\n",
            "|      10 |       3.56446e-06 |              100      |         2.60573e-06 |                100      |\n",
            "+---------+-------------------+-----------------------+---------------------+-------------------------+\n",
            "\n",
            "Dataset: IMDB_BOW\n",
            "\n",
            "+---------+-------------------+-----------------------+---------------------+-------------------------+\n",
            "|   Epoch |   Training Losses |   Training Accuracies |   Validation Losses |   Validation Accuracies |\n",
            "+=========+===================+=======================+=====================+=========================+\n",
            "|       1 |        7.55434    |               63.4425 |            0.470652 |                   82.95 |\n",
            "+---------+-------------------+-----------------------+---------------------+-------------------------+\n",
            "|       2 |        0.313229   |               88.16   |            0.261692 |                   89.73 |\n",
            "+---------+-------------------+-----------------------+---------------------+-------------------------+\n",
            "|       3 |        0.210807   |               92.0325 |            0.259453 |                   89.54 |\n",
            "+---------+-------------------+-----------------------+---------------------+-------------------------+\n",
            "|       4 |        0.159596   |               94.155  |            0.291773 |                   88.9  |\n",
            "+---------+-------------------+-----------------------+---------------------+-------------------------+\n",
            "|       5 |        0.102558   |               96.5175 |            0.35761  |                   88.37 |\n",
            "+---------+-------------------+-----------------------+---------------------+-------------------------+\n",
            "|       6 |        0.0508678  |               98.4725 |            0.451677 |                   88.13 |\n",
            "+---------+-------------------+-----------------------+---------------------+-------------------------+\n",
            "|       7 |        0.0211119  |               99.4325 |            0.57704  |                   88.02 |\n",
            "+---------+-------------------+-----------------------+---------------------+-------------------------+\n",
            "|       8 |        0.00794637 |               99.83   |            0.703859 |                   87.04 |\n",
            "+---------+-------------------+-----------------------+---------------------+-------------------------+\n",
            "|       9 |        0.0148267  |               99.61   |            0.724978 |                   87.01 |\n",
            "+---------+-------------------+-----------------------+---------------------+-------------------------+\n",
            "|      10 |        0.0050867  |               99.875  |            0.663344 |                   87.89 |\n",
            "+---------+-------------------+-----------------------+---------------------+-------------------------+\n",
            "\n",
            "Dataset: BERT_EMBED\n",
            "\n",
            "+---------+-------------------+-----------------------+---------------------+-------------------------+\n",
            "|   Epoch |   Training Losses |   Training Accuracies |   Validation Losses |   Validation Accuracies |\n",
            "+=========+===================+=======================+=====================+=========================+\n",
            "|       1 |       0.00295638  |               99.8844 |         6.67499e-05 |                     100 |\n",
            "+---------+-------------------+-----------------------+---------------------+-------------------------+\n",
            "|       2 |       2.01543e-05 |              100      |         1.01874e-05 |                     100 |\n",
            "+---------+-------------------+-----------------------+---------------------+-------------------------+\n",
            "|       3 |       2.78137e-06 |              100      |         7.95398e-06 |                     100 |\n",
            "+---------+-------------------+-----------------------+---------------------+-------------------------+\n",
            "|       4 |       1.81157e-06 |              100      |         6.20365e-06 |                     100 |\n",
            "+---------+-------------------+-----------------------+---------------------+-------------------------+\n",
            "|       5 |       1.45824e-06 |              100      |         5.72946e-06 |                     100 |\n",
            "+---------+-------------------+-----------------------+---------------------+-------------------------+\n",
            "|       6 |       1.18855e-06 |              100      |         4.1164e-06  |                     100 |\n",
            "+---------+-------------------+-----------------------+---------------------+-------------------------+\n",
            "|       7 |       9.77707e-07 |              100      |         3.76355e-06 |                     100 |\n",
            "+---------+-------------------+-----------------------+---------------------+-------------------------+\n",
            "|       8 |       8.17728e-07 |              100      |         2.99517e-06 |                     100 |\n",
            "+---------+-------------------+-----------------------+---------------------+-------------------------+\n",
            "|       9 |       7.01511e-07 |              100      |         2.51865e-06 |                     100 |\n",
            "+---------+-------------------+-----------------------+---------------------+-------------------------+\n",
            "|      10 |       6.10253e-07 |              100      |         2.20147e-06 |                     100 |\n",
            "+---------+-------------------+-----------------------+---------------------+-------------------------+\n",
            "\n",
            "Dataset: IMDB_Dataset2\n",
            "\n",
            "+---------+-------------------+-----------------------+---------------------+-------------------------+\n",
            "|   Epoch |   Training Losses |   Training Accuracies |   Validation Losses |   Validation Accuracies |\n",
            "+=========+===================+=======================+=====================+=========================+\n",
            "|       1 |         17.7435   |                 52.25 |            0.744537 |                      60 |\n",
            "+---------+-------------------+-----------------------+---------------------+-------------------------+\n",
            "|       2 |          0.728772 |                 64.5  |            0.522133 |                      71 |\n",
            "+---------+-------------------+-----------------------+---------------------+-------------------------+\n",
            "|       3 |          0.579299 |                 68.25 |            0.491038 |                      76 |\n",
            "+---------+-------------------+-----------------------+---------------------+-------------------------+\n",
            "|       4 |          0.475344 |                 78    |            0.476906 |                      72 |\n",
            "+---------+-------------------+-----------------------+---------------------+-------------------------+\n",
            "|       5 |          0.423753 |                 80.5  |            0.403552 |                      75 |\n",
            "+---------+-------------------+-----------------------+---------------------+-------------------------+\n",
            "|       6 |          0.382114 |                 82    |            0.479062 |                      74 |\n",
            "+---------+-------------------+-----------------------+---------------------+-------------------------+\n",
            "|       7 |          0.352773 |                 85    |            0.372829 |                      82 |\n",
            "+---------+-------------------+-----------------------+---------------------+-------------------------+\n",
            "|       8 |          0.309624 |                 88.25 |            0.424731 |                      82 |\n",
            "+---------+-------------------+-----------------------+---------------------+-------------------------+\n",
            "|       9 |          0.315583 |                 87    |            0.419562 |                      81 |\n",
            "+---------+-------------------+-----------------------+---------------------+-------------------------+\n",
            "|      10 |          0.293666 |                 88.5  |            0.465322 |                      78 |\n",
            "+---------+-------------------+-----------------------+---------------------+-------------------------+\n"
          ]
        }
      ]
    },
    {
      "cell_type": "markdown",
      "source": [
        "Final evaluation results"
      ],
      "metadata": {
        "id": "hptyjO5RUuke"
      }
    },
    {
      "cell_type": "markdown",
      "source": [
        "Dataset1 - Validation Loss: 0.0000, Accuracy: 100.00%        \n",
        "IMDB_BOW - Validation Loss: 0.6633, Accuracy: 87.89%          \n",
        "Dataset2 - Validation Loss: 0.0001, Accuracy: 100.00%               \n",
        "IMDB_EMBED - Validation Loss: 0.3578, Accuracy: 82.00%     "
      ],
      "metadata": {
        "id": "loIfxWZ2Uwuu"
      }
    },
    {
      "cell_type": "markdown",
      "source": [
        "\n",
        "\n",
        "Confusion matrix visualization.\n",
        "Training and validation loss curves.\n"
      ],
      "metadata": {
        "id": "WACRytDsW7Lh"
      }
    },
    {
      "cell_type": "markdown",
      "source": [
        "\n",
        "Plotted above"
      ],
      "metadata": {
        "id": "eL9GGQ7AW77L"
      }
    },
    {
      "cell_type": "markdown",
      "source": [
        "checkpoint compression"
      ],
      "metadata": {
        "id": "jObSviWhW-fr"
      }
    },
    {
      "cell_type": "markdown",
      "source": [
        "I have not saved all model weights after each training epoch but have saved the model only when the validation accuracy increased from the previous best accuracy. This will help reducing storage."
      ],
      "metadata": {
        "id": "VY8c0stVXFJJ"
      }
    },
    {
      "cell_type": "markdown",
      "source": [
        "TensorBoard integration"
      ],
      "metadata": {
        "id": "IdUWJGpbXxqs"
      }
    }
  ]
}